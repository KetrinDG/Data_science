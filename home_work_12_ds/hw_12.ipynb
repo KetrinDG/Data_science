{
  "nbformat": 4,
  "nbformat_minor": 0,
  "metadata": {
    "colab": {
      "provenance": []
    },
    "kernelspec": {
      "name": "python3",
      "display_name": "Python 3"
    },
    "language_info": {
      "name": "python"
    }
  },
  "cells": [
    {
      "cell_type": "markdown",
      "source": [
        "# Task"
      ],
      "metadata": {
        "id": "W5ilSoLFjp4X"
      }
    },
    {
      "cell_type": "markdown",
      "source": [
        "Create a summary of the text below using NLP libraries: nltk and SpaCy"
      ],
      "metadata": {
        "id": "5Errx5n-jwrI"
      }
    },
    {
      "cell_type": "code",
      "execution_count": 1,
      "metadata": {
        "colab": {
          "base_uri": "https://localhost:8080/"
        },
        "id": "zfoI1rGLie-u",
        "outputId": "4959c5d3-e68e-4de7-d6ad-e43ab998ee1b"
      },
      "outputs": [
        {
          "output_type": "stream",
          "name": "stderr",
          "text": [
            "[nltk_data] Downloading package stopwords to /root/nltk_data...\n",
            "[nltk_data]   Unzipping corpora/stopwords.zip.\n",
            "[nltk_data] Downloading package punkt to /root/nltk_data...\n",
            "[nltk_data]   Unzipping tokenizers/punkt.zip.\n"
          ]
        },
        {
          "output_type": "stream",
          "name": "stdout",
          "text": [
            "Including her maiden voyage (launched August 30, 1984), Discovery flew to space thirty-nine times, more than any of the other four orbiters; she was also the first orbiter to fly twenty missions. Other notable engineering achievements of the orbiter included the first reusable orbital propulsion system, and the first two-fault-tolerant Integrated Avionics System. According to Wayne Hale, a flight director from Johnson Space Center, the Space Shuttle orbiter represents a “huge technological leap from expendable rockets and capsules to a reusable, winged, hypersonic, cargo-carrying spacecraft.” The Space Shuttle orbiter also featured the first reusable TPS; all previous spaceflight vehicles had a single-use, ablative heat shield. She flew the first and last dedicated Department of Defense (DoD) missions, as well as the first unclassified defense-related mission.\n"
          ]
        }
      ],
      "source": [
        "import spacy\n",
        "import nltk\n",
        "from nltk.corpus import stopwords\n",
        "from nltk.tokenize import word_tokenize, sent_tokenize\n",
        "from string import punctuation\n",
        "from heapq import nlargest\n",
        "\n",
        "# Load spaCy model and download necessary NLTK data\n",
        "nlp = spacy.load('en_core_web_sm')\n",
        "nltk.download('stopwords')\n",
        "nltk.download('punkt')\n",
        "\n",
        "# Input text\n",
        "text = \"The Orbiter Discovery, OV-103, is considered eligible for listing in the National Register of Historic Places (NRHP) in the context of the U.S. Space Shuttle Program (1969-2011) under Criterion A in the areas of Space Exploration and Transportation and under Criterion C in the area of Engineering. Because it has achieved significance within the past fifty years, Criteria Consideration G applies. Under Criterion A, Discovery is significant as the oldest of the three extant orbiter vehicles constructed for the Space Shuttle Program (SSP), the longest running American space program to date; she was the third of five orbiters built by NASA. Unlike the Mercury, Gemini, and Apollo programs, the SSP’s emphasis was on cost effectiveness and reusability, and eventually the construction of a space station. Including her maiden voyage (launched August 30, 1984), Discovery flew to space thirty-nine times, more than any of the other four orbiters; she was also the first orbiter to fly twenty missions. She had the honor of being chosen as the Return to Flight vehicle after both the Challenger and Columbia accidents. Discovery was the first shuttle to fly with the redesigned SRBs, a result of the Challenger accident, and the first shuttle to fly with the Phase II and Block I SSME. Discovery also carried the Hubble Space Telescope to orbit and performed two of the five servicing missions to the observatory. She flew the first and last dedicated Department of Defense (DoD) missions, as well as the first unclassified defense-related mission. In addition, Discovery was vital to the construction of the International Space Station (ISS); she flew thirteen of the thirty-seven total missions flown to the station by a U.S. Space Shuttle. She was the first orbiter to dock to the ISS, and the first to perform an exchange of a resident crew. Under Criterion C, Discovery is significant as a feat of engineering. According to Wayne Hale, a flight director from Johnson Space Center, the Space Shuttle orbiter represents a “huge technological leap from expendable rockets and capsules to a reusable, winged, hypersonic, cargo-carrying spacecraft.” Although her base structure followed a conventional aircraft design, she used advanced materials that both minimized her weight for cargo-carrying purposes and featured low thermal expansion ratios, which provided a stable base for her Thermal Protection System (TPS) materials. The Space Shuttle orbiter also featured the first reusable TPS; all previous spaceflight vehicles had a single-use, ablative heat shield. Other notable engineering achievements of the orbiter included the first reusable orbital propulsion system, and the first two-fault-tolerant Integrated Avionics System. As Hale stated, the Space Shuttle remains “the largest, fastest, winged hypersonic aircraft in history,” having regularly flown at twenty-five times the speed of sound.\"\n",
        "\n",
        "# Tokenize the text using spaCy\n",
        "doc = nlp(text)\n",
        "tokens = [token.text for token in doc]\n",
        "\n",
        "# Tokenize the text using NLTK\n",
        "tokens = word_tokenize(text)\n",
        "sentences = sent_tokenize(text)\n",
        "stop_words = set(stopwords.words('english'))\n",
        "punctuation = punctuation + '\\n'\n",
        "\n",
        "# Calculate word frequencies\n",
        "word_frequencies = {}\n",
        "for word in doc:\n",
        "    if word.text.lower() not in stop_words and word.text.lower() not in punctuation:\n",
        "        if word.text not in word_frequencies:\n",
        "            word_frequencies[word.text] = 1\n",
        "        else:\n",
        "            word_frequencies[word.text] += 1\n",
        "\n",
        "# Normalize word frequencies\n",
        "max_frequency = max(word_frequencies.values())\n",
        "for word in word_frequencies:\n",
        "    word_frequencies[word] = word_frequencies[word] / max_frequency\n",
        "\n",
        "# Tokenize sentences\n",
        "sentence_tokens = [sent for sent in doc.sents]\n",
        "\n",
        "# Calculate sentence scores\n",
        "sentence_scores = {}\n",
        "for sent in sentence_tokens:\n",
        "    for word in sent:\n",
        "        if word.text.lower() in word_frequencies:\n",
        "            if sent not in sentence_scores:\n",
        "                sentence_scores[sent] = word_frequencies[word.text.lower()]\n",
        "            else:\n",
        "                sentence_scores[sent] += word_frequencies[word.text.lower()]\n",
        "\n",
        "# Get the top 30% of sentences\n",
        "select_length = int(len(sentence_tokens) * 0.3)\n",
        "summary = nlargest(select_length, sentence_scores, key=sentence_scores.get)\n",
        "\n",
        "# Convert the summary to a string\n",
        "final_summary = [word.text for word in summary]\n",
        "summary = ' '.join(final_summary)\n",
        "\n",
        "# Print the summary\n",
        "print(summary)\n"
      ]
    },
    {
      "cell_type": "markdown",
      "source": [
        "## _Conclusion:_\n",
        "\n",
        "The code performs the following steps:\n",
        "\n",
        "1. **Imports Necessary Libraries:** It loads required libraries such as spaCy, NLTK, and downloads necessary data for NLTK.\n",
        "   \n",
        "2. **Defines Input Text:** The input text is a description of the \"Orbiter Discovery\" space shuttle.\n",
        "\n",
        "3. **Tokenizes Text:** It tokenizes the text using both spaCy and NLTK to obtain individual words and sentences.\n",
        "\n",
        "4. **Calculates Word Frequencies:** The code calculates the frequency of each word in the text and normalizes these frequencies.\n",
        "\n",
        "5. **Calculates Sentence Scores:** It computes scores for sentences based on the frequencies of their constituent words.\n",
        "\n",
        "6. **Selects Top 30% of Sentences:** The code selects the top 30% of sentences with the highest scores.\n",
        "\n",
        "7. **Forms Final Summary:** It creates the final summary, which is a string composed of the selected sentences.\n",
        "\n",
        "8. **Prints the Summary:** The final summary is printed.\n",
        "\n",
        "Summary of the Text: The code analyzes and extracts key points from the description of the \"Orbiter Discovery\" space shuttle, including its history, participation in missions, significant technological achievements, and its impact on the construction of the International Space Station (ISS)."
      ],
      "metadata": {
        "id": "wXvyi7uujjZD"
      }
    }
  ]
}