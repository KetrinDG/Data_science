{
  "nbformat": 4,
  "nbformat_minor": 0,
  "metadata": {
    "colab": {
      "provenance": []
    },
    "kernelspec": {
      "name": "python3",
      "display_name": "Python 3"
    },
    "language_info": {
      "name": "python"
    }
  },
  "cells": [
    {
      "cell_type": "markdown",
      "source": [
        "# HOME WORK 1"
      ],
      "metadata": {
        "id": "oagYpkGaFquo"
      }
    },
    {
      "cell_type": "code",
      "source": [
        "import numpy as np"
      ],
      "metadata": {
        "id": "-Arf4BZkNmj7"
      },
      "execution_count": 1,
      "outputs": []
    },
    {
      "cell_type": "markdown",
      "source": [
        "1. Create a one-dimensional array (vector) with the first 10 natural numbers and display its values."
      ],
      "metadata": {
        "id": "l-HZWuDVF5Rb"
      }
    },
    {
      "cell_type": "code",
      "execution_count": 2,
      "metadata": {
        "colab": {
          "base_uri": "https://localhost:8080/"
        },
        "id": "x0Mp6sKGFpn-",
        "outputId": "9cf14d13-8cc5-47d2-b9a5-f5d02b1a6449"
      },
      "outputs": [
        {
          "output_type": "stream",
          "name": "stdout",
          "text": [
            "One-dimensional array with the first 10 natural numbers:\n",
            "[ 1  2  3  4  5  6  7  8  9 10]\n"
          ]
        }
      ],
      "source": [
        "vector = np.arange(1, 11, dtype=int)\n",
        "print(\"One-dimensional array with the first 10 natural numbers:\")\n",
        "print(vector)"
      ]
    },
    {
      "cell_type": "markdown",
      "source": [
        "2. Create a two-dimensional array (matrix) with dimensions 3x3, fill it with zeros, and display its values."
      ],
      "metadata": {
        "id": "JwTXjdjCGmKv"
      }
    },
    {
      "cell_type": "code",
      "source": [
        "zeros_matrix = np.zeros((3,3), dtype=int)\n",
        "print(\"Two-dimensional array with dimensions 3x3 filled with zeros:\")\n",
        "print(zeros_matrix)"
      ],
      "metadata": {
        "id": "SoFWFOa1HHls",
        "colab": {
          "base_uri": "https://localhost:8080/"
        },
        "outputId": "83b713e9-f5b6-4b4e-f744-16dbaa90f08d"
      },
      "execution_count": 3,
      "outputs": [
        {
          "output_type": "stream",
          "name": "stdout",
          "text": [
            "Two-dimensional array with dimensions 3x3 filled with zeros:\n",
            "[[0 0 0]\n",
            " [0 0 0]\n",
            " [0 0 0]]\n"
          ]
        }
      ]
    },
    {
      "cell_type": "markdown",
      "source": [
        "3. Create a 5x5 array, fill it with random integers in the range from 1 to 10, and display its values."
      ],
      "metadata": {
        "id": "HcPENBfXG_yC"
      }
    },
    {
      "cell_type": "code",
      "source": [
        "random_matrix = np.random.randint(1, 11, size=(5, 5))\n",
        "print(\"Array with dimensions 5x5 filled with random integers from 1 to 10:\")\n",
        "print(random_matrix)"
      ],
      "metadata": {
        "colab": {
          "base_uri": "https://localhost:8080/"
        },
        "id": "Pg-RH28NHJX7",
        "outputId": "559f910c-4b11-4a1a-b22a-56bcd867e21b"
      },
      "execution_count": 4,
      "outputs": [
        {
          "output_type": "stream",
          "name": "stdout",
          "text": [
            "Array with dimensions 5x5 filled with random integers from 1 to 10:\n",
            "[[ 4  7  3  3  1]\n",
            " [ 8 10  8  5 10]\n",
            " [ 7  7  5 10  1]\n",
            " [ 8  7  8  1  3]\n",
            " [ 2  3  9  7  2]]\n"
          ]
        }
      ]
    },
    {
      "cell_type": "markdown",
      "source": [
        "4. Create a 4x4 array, fill it with random real numbers in the range from 0 to 1, and display its values.\n",
        "\n"
      ],
      "metadata": {
        "id": "12J5BVaxHLtE"
      }
    },
    {
      "cell_type": "code",
      "source": [
        "random_matrix_f = np.random.random((4, 4))\n",
        "print(\"Array with dimensions 4x4 filled with random real numbers from 0 to 1:\")\n",
        "print(random_matrix_f)"
      ],
      "metadata": {
        "colab": {
          "base_uri": "https://localhost:8080/"
        },
        "id": "JAbm-N4KHRrr",
        "outputId": "0a439aee-22fe-4644-ce10-add1a80bff98"
      },
      "execution_count": 5,
      "outputs": [
        {
          "output_type": "stream",
          "name": "stdout",
          "text": [
            "Array with dimensions 4x4 filled with random real numbers from 0 to 1:\n",
            "[[0.85158755 0.14819868 0.1531164  0.11720648]\n",
            " [0.36953871 0.92123919 0.76367049 0.63543607]\n",
            " [0.93122167 0.03201622 0.32296558 0.13729301]\n",
            " [0.45134213 0.41937486 0.19793416 0.82906067]]\n"
          ]
        }
      ]
    },
    {
      "cell_type": "markdown",
      "source": [
        "5. Create two one-dimensional arrays with a size of 5, fill them with random integers in the range from 1 to 10, and perform element-wise addition, subtraction, and multiplication on them."
      ],
      "metadata": {
        "id": "7hMO36HLHSdf"
      }
    },
    {
      "cell_type": "code",
      "source": [
        "a = np.random.randint(1, 11, size=5)\n",
        "b = np.random.randint(1, 11, size=5)\n",
        "print(f\"Addition result: {a + b}\")\n",
        "print(f\"Subtraction result: {a - b}\")\n",
        "print(f\"Multiplication result: {a * b}\")"
      ],
      "metadata": {
        "colab": {
          "base_uri": "https://localhost:8080/"
        },
        "id": "JHFk09OAHWAp",
        "outputId": "e748034a-9a12-4876-ee9c-56df8b679596"
      },
      "execution_count": 6,
      "outputs": [
        {
          "output_type": "stream",
          "name": "stdout",
          "text": [
            "Addition result: [17  9  3  8  5]\n",
            "Subtraction result: [-1  3 -1  4  1]\n",
            "Multiplication result: [72 18  2 12  6]\n"
          ]
        }
      ]
    },
    {
      "cell_type": "markdown",
      "source": [
        "6. Create two vectors with a size of 7, fill them with arbitrary numbers, and find their scalar product."
      ],
      "metadata": {
        "id": "5CZ1NOHDHWPR"
      }
    },
    {
      "cell_type": "code",
      "source": [
        "a = np.random.randint(1, 31, size=7)\n",
        "b = np.random.randint(1, 31, size=7)\n",
        "print(f\"Scalar product: {np.dot(a,b)}\")"
      ],
      "metadata": {
        "id": "f9WSE2DNHZ6X",
        "colab": {
          "base_uri": "https://localhost:8080/"
        },
        "outputId": "78e485f2-d637-4f05-9925-fb3dd6ab4b9f"
      },
      "execution_count": 7,
      "outputs": [
        {
          "output_type": "stream",
          "name": "stdout",
          "text": [
            "Scalar product: 1395\n"
          ]
        }
      ]
    },
    {
      "cell_type": "markdown",
      "source": [
        "7. Create two matrices with dimensions 2x2 and 2x3, fill them with random integers in the range from 1 to 10, and multiply them together."
      ],
      "metadata": {
        "id": "itQPYBP8Hahc"
      }
    },
    {
      "cell_type": "code",
      "source": [
        "a = np.random.randint(1, 11, size=(2, 2))\n",
        "b = np.random.randint(1, 11, size=(2, 3))\n",
        "print(\"Multiplication result:\")\n",
        "print(np.dot(a,b))"
      ],
      "metadata": {
        "id": "c0nEb0_JHdFA",
        "colab": {
          "base_uri": "https://localhost:8080/"
        },
        "outputId": "6393b14d-52a8-4388-be47-6b3882039363"
      },
      "execution_count": 8,
      "outputs": [
        {
          "output_type": "stream",
          "name": "stdout",
          "text": [
            "Multiplication result:\n",
            "[[23 91 33]\n",
            " [35 83 33]]\n"
          ]
        }
      ]
    },
    {
      "cell_type": "markdown",
      "source": [
        "8. Create a 3x3 matrix, fill it with random integers in the range from 1 to 10, and find its inverse matrix."
      ],
      "metadata": {
        "id": "S_r0oMQbHdOB"
      }
    },
    {
      "cell_type": "code",
      "source": [
        "matrix = np.random.randint(1, 11, size=(3, 3))\n",
        "print(\"Inverse matrix:\")\n",
        "print(np.linalg.inv(matrix))"
      ],
      "metadata": {
        "id": "1Jrw8nxUHfjp",
        "colab": {
          "base_uri": "https://localhost:8080/"
        },
        "outputId": "55f82232-45f1-4593-dd32-c9e5a6d0ab1e"
      },
      "execution_count": 9,
      "outputs": [
        {
          "output_type": "stream",
          "name": "stdout",
          "text": [
            "Inverse matrix:\n",
            "[[-0.23076923 -0.30769231  0.46153846]\n",
            " [ 0.40659341  0.20879121 -0.38461538]\n",
            " [-0.14285714  0.14285714 -0.        ]]\n"
          ]
        }
      ]
    },
    {
      "cell_type": "markdown",
      "source": [
        "9. Create a 4x4 matrix, fill it with random real numbers in the range from 0 to 1, and transpose it."
      ],
      "metadata": {
        "id": "3Pc92dfcHfsa"
      }
    },
    {
      "cell_type": "code",
      "source": [
        "matrix = np.random.rand(4, 4)\n",
        "print(\"Transposed matrix:\")\n",
        "print(matrix.T)"
      ],
      "metadata": {
        "id": "EQhhYQ1IHiAT",
        "colab": {
          "base_uri": "https://localhost:8080/"
        },
        "outputId": "db4e787c-f716-42c6-e580-76cff5f3779b"
      },
      "execution_count": 10,
      "outputs": [
        {
          "output_type": "stream",
          "name": "stdout",
          "text": [
            "Transposed matrix:\n",
            "[[0.29911147 0.010933   0.99518597 0.0331601 ]\n",
            " [0.6384035  0.57885548 0.87824506 0.12519083]\n",
            " [0.44246274 0.49854219 0.96745936 0.40551633]\n",
            " [0.06280074 0.11170357 0.76639779 0.59404452]]\n"
          ]
        }
      ]
    },
    {
      "cell_type": "markdown",
      "source": [
        "10. Create a 3x4 matrix and a vector with a size of 4, fill them with random integers in the range from 1 to 10, and perform matrix-vector multiplication."
      ],
      "metadata": {
        "id": "EjaMRRfSHiK9"
      }
    },
    {
      "cell_type": "code",
      "source": [
        "matrix = np.random.randint(1, 11, size=(3, 4))\n",
        "vector = np.random.randint(1, 11, size=4)\n",
        "print(\"Matrix-vector multiplication result:\")\n",
        "print(np.dot(matrix, vector))"
      ],
      "metadata": {
        "id": "5jWyAUTtHkRu",
        "colab": {
          "base_uri": "https://localhost:8080/"
        },
        "outputId": "dacdb804-1c43-4900-81c5-bdd0e59328ef"
      },
      "execution_count": 11,
      "outputs": [
        {
          "output_type": "stream",
          "name": "stdout",
          "text": [
            "Matrix-vector multiplication result:\n",
            "[115 127  95]\n"
          ]
        }
      ]
    },
    {
      "cell_type": "markdown",
      "source": [
        "11. Create a 2x3 matrix and a vector with a size of 3, fill them with random real numbers in the range from 0 to 1, and perform matrix-vector multiplication."
      ],
      "metadata": {
        "id": "6uJpACG5HkbX"
      }
    },
    {
      "cell_type": "code",
      "source": [
        "matrix = np.random.rand(2, 3)\n",
        "vector = np.random.rand(3)\n",
        "print(\"Result of matrix-vector multiplication:\")\n",
        "print(np.dot(matrix, vector))"
      ],
      "metadata": {
        "id": "Z0A2-GUIHmjd",
        "colab": {
          "base_uri": "https://localhost:8080/"
        },
        "outputId": "a49a569f-b749-4400-a0c7-467a65038d3a"
      },
      "execution_count": 12,
      "outputs": [
        {
          "output_type": "stream",
          "name": "stdout",
          "text": [
            "Result of matrix-vector multiplication:\n",
            "[0.59684901 0.25732792]\n"
          ]
        }
      ]
    },
    {
      "cell_type": "markdown",
      "source": [
        "12. Create two matrices with dimensions 2x2, fill them with random integers in the range from 1 to 10, and perform element-wise multiplication."
      ],
      "metadata": {
        "id": "Vge035YFHnoE"
      }
    },
    {
      "cell_type": "code",
      "source": [
        "matrix1 = np.random.randint(1, 11, size=(2, 2))\n",
        "matrix2 = np.random.randint(1, 11, size=(2, 2))\n",
        "print(\"Result of element-wise multiplication:\")\n",
        "print(matrix1 * matrix2)"
      ],
      "metadata": {
        "id": "rZlANuWBHppU",
        "colab": {
          "base_uri": "https://localhost:8080/"
        },
        "outputId": "dff08e0f-39cc-46d4-a025-b1961d419704"
      },
      "execution_count": 13,
      "outputs": [
        {
          "output_type": "stream",
          "name": "stdout",
          "text": [
            "Result of element-wise multiplication:\n",
            "[[56  4]\n",
            " [10 42]]\n"
          ]
        }
      ]
    },
    {
      "cell_type": "markdown",
      "source": [
        "13. Create two matrices with dimensions 2x2, fill them with random integers in the range from 1 to 10, and find their product."
      ],
      "metadata": {
        "id": "j5Af85cmHpyE"
      }
    },
    {
      "cell_type": "code",
      "source": [
        "matrix1 = np.random.randint(1, 11, size=(2, 2))\n",
        "matrix2 = np.random.randint(1, 11, size=(2, 2))\n",
        "print(\"Multiplication result:\")\n",
        "print(np.dot(matrix1, matrix2))"
      ],
      "metadata": {
        "id": "Mi_nJEB2Hs37",
        "colab": {
          "base_uri": "https://localhost:8080/"
        },
        "outputId": "b4239172-43bc-4599-be06-f7ff777c1d74"
      },
      "execution_count": 14,
      "outputs": [
        {
          "output_type": "stream",
          "name": "stdout",
          "text": [
            "Multiplication result:\n",
            "[[28 19]\n",
            " [32 22]]\n"
          ]
        }
      ]
    },
    {
      "cell_type": "markdown",
      "source": [
        "14. Create a 5x5 matrix, fill it with random integers in the range from 1 to 100, and find the sum of its elements."
      ],
      "metadata": {
        "id": "XJoxULfDHs_N"
      }
    },
    {
      "cell_type": "code",
      "source": [
        "matrix = np.random.randint(1, 101, size=(5, 5))\n",
        "print(f\"The sum of matrix elements: {matrix.sum()}\")"
      ],
      "metadata": {
        "id": "WSX_4WVPHvfJ",
        "colab": {
          "base_uri": "https://localhost:8080/"
        },
        "outputId": "88ba967d-e59e-486d-b3c2-95bcfcd61f92"
      },
      "execution_count": 15,
      "outputs": [
        {
          "output_type": "stream",
          "name": "stdout",
          "text": [
            "The sum of matrix elements: 1244\n"
          ]
        }
      ]
    },
    {
      "cell_type": "markdown",
      "source": [
        "15. Create two 4x4 matrices, fill them with random integers in the range from 1 to 10, and find their difference."
      ],
      "metadata": {
        "id": "4oM-X4gDHvl9"
      }
    },
    {
      "cell_type": "code",
      "source": [
        "matrix1 = np.random.randint(1, 11, size=(4, 4))\n",
        "matrix2 = np.random.randint(1, 11, size=(4, 4))\n",
        "print(\"Difference result:\")\n",
        "print(matrix1 - matrix2)"
      ],
      "metadata": {
        "id": "-KUsiDgeIlum",
        "colab": {
          "base_uri": "https://localhost:8080/"
        },
        "outputId": "baf673cd-7185-44bc-e54c-740d345ef33b"
      },
      "execution_count": 16,
      "outputs": [
        {
          "output_type": "stream",
          "name": "stdout",
          "text": [
            "Difference result:\n",
            "[[-3  4  4  2]\n",
            " [-2  8  5  3]\n",
            " [ 3 -3  3 -1]\n",
            " [ 0  0 -4 -9]]\n"
          ]
        }
      ]
    },
    {
      "cell_type": "markdown",
      "source": [
        "16. Create a 3x3 matrix, fill it with random real numbers in the range from 0 to 1, and find a column vector that contains the sum of elements of each row of the matrix."
      ],
      "metadata": {
        "id": "2yJ2879IIl3W"
      }
    },
    {
      "cell_type": "code",
      "source": [
        "matrix = np.random.rand(3, 3)\n",
        "matrix_sum = np.sum(matrix, axis=1)\n",
        "print(\"Column vector with the sums of row elements:\")\n",
        "print(matrix_sum.reshape(-1, 1))"
      ],
      "metadata": {
        "id": "T5uZd-IDIoxF",
        "colab": {
          "base_uri": "https://localhost:8080/"
        },
        "outputId": "56f37ec7-a4ac-4aed-877b-52cf4b8ff8a4"
      },
      "execution_count": 17,
      "outputs": [
        {
          "output_type": "stream",
          "name": "stdout",
          "text": [
            "Column vector with the sums of row elements:\n",
            "[[2.10610951]\n",
            " [2.13834271]\n",
            " [1.4496627 ]]\n"
          ]
        }
      ]
    },
    {
      "cell_type": "markdown",
      "source": [
        "17. Create a 3x4 matrix with arbitrary integers and create a matrix with the squares of these numbers."
      ],
      "metadata": {
        "id": "OxDUXNJsIo5u"
      }
    },
    {
      "cell_type": "code",
      "source": [
        "matrix = np.random.randint(1, 11, size=(3, 4))\n",
        "print(\"Matrix with the squares of numbers:\")\n",
        "print(np.square(matrix))"
      ],
      "metadata": {
        "colab": {
          "base_uri": "https://localhost:8080/"
        },
        "id": "XuNoyoFnDneq",
        "outputId": "28f7fd47-3efb-408e-baea-21b254fac3f8"
      },
      "execution_count": 18,
      "outputs": [
        {
          "output_type": "stream",
          "name": "stdout",
          "text": [
            "Matrix with the squares of numbers:\n",
            "[[25  4  9 81]\n",
            " [ 1 25  4 64]\n",
            " [ 4 16 64 36]]\n"
          ]
        }
      ]
    },
    {
      "cell_type": "markdown",
      "source": [
        "18. Create a vector with a size of 4, fill it with random integers in the range from 1 to 50, and find a vector with the square roots of these numbers."
      ],
      "metadata": {
        "id": "lic_wu3uEZqe"
      }
    },
    {
      "cell_type": "code",
      "source": [
        "vector = np.random.randint(1, 51, size=4)\n",
        "print(\"Vector with the square roots:\")\n",
        "print(np.sqrt(vector))"
      ],
      "metadata": {
        "colab": {
          "base_uri": "https://localhost:8080/"
        },
        "id": "WrS0-z9CEeav",
        "outputId": "bb3a3e58-5118-4e74-ccdf-1973d356c1d2"
      },
      "execution_count": 19,
      "outputs": [
        {
          "output_type": "stream",
          "name": "stdout",
          "text": [
            "Vector with the square roots:\n",
            "[2.23606798 2.23606798 6.55743852 5.74456265]\n"
          ]
        }
      ]
    }
  ]
}