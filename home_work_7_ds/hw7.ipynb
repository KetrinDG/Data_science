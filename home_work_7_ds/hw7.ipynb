{
  "nbformat": 4,
  "nbformat_minor": 0,
  "metadata": {
    "colab": {
      "provenance": []
    },
    "kernelspec": {
      "name": "python3",
      "display_name": "Python 3"
    },
    "language_info": {
      "name": "python"
    }
  },
  "cells": [
    {
      "cell_type": "markdown",
      "source": [
        "#Task"
      ],
      "metadata": {
        "id": "HD4E9sWOkmKU"
      }
    },
    {
      "cell_type": "markdown",
      "source": [
        "Take the MovieLens dataset and build a matrix factorization model. In this library, it is referred to as SVD. Tune the best parameters using cross-validation and also experiment with other computation algorithms (SVD++, NMF) and select the one that is optimal."
      ],
      "metadata": {
        "id": "9IGRbGiZnLaR"
      }
    },
    {
      "cell_type": "code",
      "source": [
        "pip install surprise"
      ],
      "metadata": {
        "id": "eAXwmbaMl2T5"
      },
      "execution_count": null,
      "outputs": []
    },
    {
      "cell_type": "code",
      "execution_count": 2,
      "metadata": {
        "id": "BIyIYj2mkjnr"
      },
      "outputs": [],
      "source": [
        "from surprise import Dataset, Reader, SVD, SVDpp, NMF\n",
        "from surprise.model_selection import cross_validate\n",
        "import matplotlib.pyplot as plt"
      ]
    },
    {
      "cell_type": "code",
      "source": [
        "!pip install mplcyberpunk\n",
        "import mplcyberpunk\n",
        "\n",
        "plt.style.use(\"cyberpunk\")"
      ],
      "metadata": {
        "id": "ty88HBJfqro1"
      },
      "execution_count": null,
      "outputs": []
    },
    {
      "cell_type": "markdown",
      "source": [
        "Load the MovieLens 100k dataset."
      ],
      "metadata": {
        "id": "lb0lry8Sk1U5"
      }
    },
    {
      "cell_type": "code",
      "source": [
        "data = Dataset.load_builtin('ml-100k')"
      ],
      "metadata": {
        "id": "bLkMJPG3kvAY"
      },
      "execution_count": null,
      "outputs": []
    },
    {
      "cell_type": "markdown",
      "source": [
        "Create instances of the SVD, SVD++, and NMF algorithms"
      ],
      "metadata": {
        "id": "5FVrk6OHk2hJ"
      }
    },
    {
      "cell_type": "code",
      "source": [
        "algo_svd = SVD()\n",
        "algo_svdpp = SVDpp()\n",
        "algo_nmf = NMF()"
      ],
      "metadata": {
        "id": "eld4nmZvkvHQ"
      },
      "execution_count": 5,
      "outputs": []
    },
    {
      "cell_type": "markdown",
      "source": [
        "Perform cross-validation for the SVD, SVD++, NMF algorithm"
      ],
      "metadata": {
        "id": "V7i_au83k3SM"
      }
    },
    {
      "cell_type": "code",
      "source": [
        "cv_results_svd = cross_validate(algo_svd, data, measures=['RMSE'], cv=3, verbose=True)\n",
        "cv_results_svdpp = cross_validate(algo_svdpp, data, measures=['RMSE'], cv=3, verbose=True)\n",
        "cv_results_nmf = cross_validate(algo_nmf, data, measures=['RMSE'], cv=3, verbose=True)"
      ],
      "metadata": {
        "colab": {
          "base_uri": "https://localhost:8080/"
        },
        "id": "Kca2rFb3kvKu",
        "outputId": "3aaa562c-ce4b-40a3-d6d0-fd0bb22038a1"
      },
      "execution_count": 6,
      "outputs": [
        {
          "output_type": "stream",
          "name": "stdout",
          "text": [
            "Evaluating RMSE of algorithm SVD on 3 split(s).\n",
            "\n",
            "                  Fold 1  Fold 2  Fold 3  Mean    Std     \n",
            "RMSE (testset)    0.9457  0.9410  0.9470  0.9446  0.0026  \n",
            "Fit time          0.86    0.87    0.78    0.84    0.04    \n",
            "Test time         0.22    0.16    0.22    0.20    0.03    \n",
            "Evaluating RMSE of algorithm SVDpp on 3 split(s).\n",
            "\n",
            "                  Fold 1  Fold 2  Fold 3  Mean    Std     \n",
            "RMSE (testset)    0.9341  0.9263  0.9251  0.9285  0.0040  \n",
            "Fit time          20.96   17.04   17.21   18.40   1.81    \n",
            "Test time         7.61    5.81    6.20    6.54    0.78    \n",
            "Evaluating RMSE of algorithm NMF on 3 split(s).\n",
            "\n",
            "                  Fold 1  Fold 2  Fold 3  Mean    Std     \n",
            "RMSE (testset)    0.9713  0.9717  0.9775  0.9735  0.0028  \n",
            "Fit time          1.30    1.34    1.35    1.33    0.02    \n",
            "Test time         0.19    0.19    0.12    0.17    0.04    \n"
          ]
        }
      ]
    },
    {
      "cell_type": "markdown",
      "source": [
        "Calculate the mean RMSE for each algorithm"
      ],
      "metadata": {
        "id": "oNQrzJAQk4Ka"
      }
    },
    {
      "cell_type": "code",
      "source": [
        "rmse_svd = cv_results_svd['test_rmse'].mean()\n",
        "rmse_svdpp = cv_results_svdpp['test_rmse'].mean()\n",
        "rmse_nmf = cv_results_nmf['test_rmse'].mean()"
      ],
      "metadata": {
        "id": "CZDxHxJOk7Q7"
      },
      "execution_count": 7,
      "outputs": []
    },
    {
      "cell_type": "code",
      "source": [
        "print(f\"SVD:{rmse_svd}\")\n",
        "print(f\"SVD++:{rmse_svdpp}\")\n",
        "print(f\"NMF:{rmse_nmf}\")"
      ],
      "metadata": {
        "colab": {
          "base_uri": "https://localhost:8080/"
        },
        "id": "oas886R1k7zB",
        "outputId": "a3cf6183-4f28-4eda-c9e6-4a30d4aed2c9"
      },
      "execution_count": 8,
      "outputs": [
        {
          "output_type": "stream",
          "name": "stdout",
          "text": [
            "SVD:0.9445706903791763\n",
            "SVD++:0.9284762458764289\n",
            "NMF:0.9734925669504956\n"
          ]
        }
      ]
    },
    {
      "cell_type": "markdown",
      "source": [
        "##__Conclusion:__\n",
        "\n",
        "From these results, it can be seen that SVD++ has the lowest RMSE, indicating that this algorithm may be optimal for the MovieLens dataset. SVD also shows good performance, but SVD++ slightly outperforms it in terms of accuracy."
      ],
      "metadata": {
        "id": "x3qDON4ck-wl"
      }
    },
    {
      "cell_type": "code",
      "source": [
        "rmse_values = [rmse_svd, rmse_svdpp, rmse_nmf]\n",
        "algorithms = ['SVD', 'SVD++', 'NMF']\n",
        "plt.bar(algorithms, rmse_values, color=['blue', 'green', 'red'])\n",
        "plt.xlabel('Algorithms')\n",
        "plt.ylabel('RMSE')\n",
        "plt.title('RMSE Comparison for Matrix Factorization Algorithms')\n",
        "plt.ylim(0.9, 1.0)\n",
        "plt.show()"
      ],
      "metadata": {
        "colab": {
          "base_uri": "https://localhost:8080/",
          "height": 465
        },
        "id": "JW53oLfTp2bT",
        "outputId": "5b570f69-de00-4b50-b9f2-2e57150d9144"
      },
      "execution_count": 9,
      "outputs": [
        {
          "output_type": "display_data",
          "data": {
            "text/plain": [
              "<Figure size 640x480 with 1 Axes>"
            ],
            "image/png": "[encoded data removed]"
          },
          "metadata": {}
        }
      ]
    }
  ]
}