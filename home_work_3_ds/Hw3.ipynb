{
  "nbformat": 4,
  "nbformat_minor": 0,
  "metadata": {
    "colab": {
      "provenance": []
    },
    "kernelspec": {
      "name": "python3",
      "display_name": "Python 3"
    },
    "language_info": {
      "name": "python"
    }
  },
  "cells": [
    {
      "cell_type": "markdown",
      "source": [
        "# Task\n"
      ],
      "metadata": {
        "id": "hYhasLlqpyMR"
      }
    },
    {
      "cell_type": "code",
      "execution_count": 1,
      "metadata": {
        "id": "Q6rU85fXoukI"
      },
      "outputs": [],
      "source": [
        "import pandas as pd\n",
        "import numpy as np\n",
        "from sklearn.linear_model import LinearRegression\n",
        "from google.colab import files\n",
        "import plotly.express as px\n",
        "import seaborn as sns\n",
        "import matplotlib.pyplot as plt"
      ]
    },
    {
      "cell_type": "code",
      "source": [
        "!pip install mplcyberpunk\n",
        "import mplcyberpunk\n",
        "\n",
        "plt.style.use(\"cyberpunk\")"
      ],
      "metadata": {
        "colab": {
          "base_uri": "https://localhost:8080/"
        },
        "id": "IA857O09BraY",
        "outputId": "cee163d9-1233-4b79-ba66-5581f33fa99f"
      },
      "execution_count": 2,
      "outputs": [
        {
          "output_type": "stream",
          "name": "stdout",
          "text": [
            "Collecting mplcyberpunk\n",
            "  Downloading mplcyberpunk-0.7.0-py3-none-any.whl (6.3 kB)\n",
            "Requirement already satisfied: matplotlib in /usr/local/lib/python3.10/dist-packages (from mplcyberpunk) (3.7.1)\n",
            "Requirement already satisfied: contourpy>=1.0.1 in /usr/local/lib/python3.10/dist-packages (from matplotlib->mplcyberpunk) (1.1.0)\n",
            "Requirement already satisfied: cycler>=0.10 in /usr/local/lib/python3.10/dist-packages (from matplotlib->mplcyberpunk) (0.11.0)\n",
            "Requirement already satisfied: fonttools>=4.22.0 in /usr/local/lib/python3.10/dist-packages (from matplotlib->mplcyberpunk) (4.42.0)\n",
            "Requirement already satisfied: kiwisolver>=1.0.1 in /usr/local/lib/python3.10/dist-packages (from matplotlib->mplcyberpunk) (1.4.4)\n",
            "Requirement already satisfied: numpy>=1.20 in /usr/local/lib/python3.10/dist-packages (from matplotlib->mplcyberpunk) (1.23.5)\n",
            "Requirement already satisfied: packaging>=20.0 in /usr/local/lib/python3.10/dist-packages (from matplotlib->mplcyberpunk) (23.1)\n",
            "Requirement already satisfied: pillow>=6.2.0 in /usr/local/lib/python3.10/dist-packages (from matplotlib->mplcyberpunk) (9.4.0)\n",
            "Requirement already satisfied: pyparsing>=2.3.1 in /usr/local/lib/python3.10/dist-packages (from matplotlib->mplcyberpunk) (3.1.1)\n",
            "Requirement already satisfied: python-dateutil>=2.7 in /usr/local/lib/python3.10/dist-packages (from matplotlib->mplcyberpunk) (2.8.2)\n",
            "Requirement already satisfied: six>=1.5 in /usr/local/lib/python3.10/dist-packages (from python-dateutil>=2.7->matplotlib->mplcyberpunk) (1.16.0)\n",
            "Installing collected packages: mplcyberpunk\n",
            "Successfully installed mplcyberpunk-0.7.0\n"
          ]
        }
      ]
    },
    {
      "cell_type": "code",
      "source": [
        "uploaded = files.upload()"
      ],
      "metadata": {
        "colab": {
          "base_uri": "https://localhost:8080/",
          "height": 73
        },
        "id": "FlOVev5oq6Cu",
        "outputId": "92588598-923d-46b4-8072-18c4f3981619"
      },
      "execution_count": 3,
      "outputs": [
        {
          "output_type": "display_data",
          "data": {
            "text/plain": [
              "<IPython.core.display.HTML object>"
            ],
            "text/html": [
              "\n",
              "     <input type=\"file\" id=\"files-13e6a2bf-ce07-45ce-8643-5af175106f63\" name=\"files[]\" multiple disabled\n",
              "        style=\"border:none\" />\n",
              "     <output id=\"result-13e6a2bf-ce07-45ce-8643-5af175106f63\">\n",
              "      Upload widget is only available when the cell has been executed in the\n",
              "      current browser session. Please rerun this cell to enable.\n",
              "      </output>\n",
              "      <script>// Copyright 2017 Google LLC\n",
              "//\n",
              "// Licensed under the Apache License, Version 2.0 (the \"License\");\n",
              "// you may not use this file except in compliance with the License.\n",
              "// You may obtain a copy of the License at\n",
              "//\n",
              "//      http://www.apache.org/licenses/LICENSE-2.0\n",
              "//\n",
              "// Unless required by applicable law or agreed to in writing, software\n",
              "// distributed under the License is distributed on an \"AS IS\" BASIS,\n",
              "// WITHOUT WARRANTIES OR CONDITIONS OF ANY KIND, either express or implied.\n",
              "// See the License for the specific language governing permissions and\n",
              "// limitations under the License.\n",
              "\n",
              "/**\n",
              " * @fileoverview Helpers for google.colab Python module.\n",
              " */\n",
              "(function(scope) {\n",
              "function span(text, styleAttributes = {}) {\n",
              "  const element = document.createElement('span');\n",
              "  element.textContent = text;\n",
              "  for (const key of Object.keys(styleAttributes)) {\n",
              "    element.style[key] = styleAttributes[key];\n",
              "  }\n",
              "  return element;\n",
              "}\n",
              "\n",
              "// Max number of bytes which will be uploaded at a time.\n",
              "const MAX_PAYLOAD_SIZE = 100 * 1024;\n",
              "\n",
              "function _uploadFiles(inputId, outputId) {\n",
              "  const steps = uploadFilesStep(inputId, outputId);\n",
              "  const outputElement = document.getElementById(outputId);\n",
              "  // Cache steps on the outputElement to make it available for the next call\n",
              "  // to uploadFilesContinue from Python.\n",
              "  outputElement.steps = steps;\n",
              "\n",
              "  return _uploadFilesContinue(outputId);\n",
              "}\n",
              "\n",
              "// This is roughly an async generator (not supported in the browser yet),\n",
              "// where there are multiple asynchronous steps and the Python side is going\n",
              "// to poll for completion of each step.\n",
              "// This uses a Promise to block the python side on completion of each step,\n",
              "// then passes the result of the previous step as the input to the next step.\n",
              "function _uploadFilesContinue(outputId) {\n",
              "  const outputElement = document.getElementById(outputId);\n",
              "  const steps = outputElement.steps;\n",
              "\n",
              "  const next = steps.next(outputElement.lastPromiseValue);\n",
              "  return Promise.resolve(next.value.promise).then((value) => {\n",
              "    // Cache the last promise value to make it available to the next\n",
              "    // step of the generator.\n",
              "    outputElement.lastPromiseValue = value;\n",
              "    return next.value.response;\n",
              "  });\n",
              "}\n",
              "\n",
              "/**\n",
              " * Generator function which is called between each async step of the upload\n",
              " * process.\n",
              " * @param {string} inputId Element ID of the input file picker element.\n",
              " * @param {string} outputId Element ID of the output display.\n",
              " * @return {!Iterable<!Object>} Iterable of next steps.\n",
              " */\n",
              "function* uploadFilesStep(inputId, outputId) {\n",
              "  const inputElement = document.getElementById(inputId);\n",
              "  inputElement.disabled = false;\n",
              "\n",
              "  const outputElement = document.getElementById(outputId);\n",
              "  outputElement.innerHTML = '';\n",
              "\n",
              "  const pickedPromise = new Promise((resolve) => {\n",
              "    inputElement.addEventListener('change', (e) => {\n",
              "      resolve(e.target.files);\n",
              "    });\n",
              "  });\n",
              "\n",
              "  const cancel = document.createElement('button');\n",
              "  inputElement.parentElement.appendChild(cancel);\n",
              "  cancel.textContent = 'Cancel upload';\n",
              "  const cancelPromise = new Promise((resolve) => {\n",
              "    cancel.onclick = () => {\n",
              "      resolve(null);\n",
              "    };\n",
              "  });\n",
              "\n",
              "  // Wait for the user to pick the files.\n",
              "  const files = yield {\n",
              "    promise: Promise.race([pickedPromise, cancelPromise]),\n",
              "    response: {\n",
              "      action: 'starting',\n",
              "    }\n",
              "  };\n",
              "\n",
              "  cancel.remove();\n",
              "\n",
              "  // Disable the input element since further picks are not allowed.\n",
              "  inputElement.disabled = true;\n",
              "\n",
              "  if (!files) {\n",
              "    return {\n",
              "      response: {\n",
              "        action: 'complete',\n",
              "      }\n",
              "    };\n",
              "  }\n",
              "\n",
              "  for (const file of files) {\n",
              "    const li = document.createElement('li');\n",
              "    li.append(span(file.name, {fontWeight: 'bold'}));\n",
              "    li.append(span(\n",
              "        `(${file.type || 'n/a'}) - ${file.size} bytes, ` +\n",
              "        `last modified: ${\n",
              "            file.lastModifiedDate ? file.lastModifiedDate.toLocaleDateString() :\n",
              "                                    'n/a'} - `));\n",
              "    const percent = span('0% done');\n",
              "    li.appendChild(percent);\n",
              "\n",
              "    outputElement.appendChild(li);\n",
              "\n",
              "    const fileDataPromise = new Promise((resolve) => {\n",
              "      const reader = new FileReader();\n",
              "      reader.onload = (e) => {\n",
              "        resolve(e.target.result);\n",
              "      };\n",
              "      reader.readAsArrayBuffer(file);\n",
              "    });\n",
              "    // Wait for the data to be ready.\n",
              "    let fileData = yield {\n",
              "      promise: fileDataPromise,\n",
              "      response: {\n",
              "        action: 'continue',\n",
              "      }\n",
              "    };\n",
              "\n",
              "    // Use a chunked sending to avoid message size limits. See b/62115660.\n",
              "    let position = 0;\n",
              "    do {\n",
              "      const length = Math.min(fileData.byteLength - position, MAX_PAYLOAD_SIZE);\n",
              "      const chunk = new Uint8Array(fileData, position, length);\n",
              "      position += length;\n",
              "\n",
              "      const base64 = btoa(String.fromCharCode.apply(null, chunk));\n",
              "      yield {\n",
              "        response: {\n",
              "          action: 'append',\n",
              "          file: file.name,\n",
              "          data: base64,\n",
              "        },\n",
              "      };\n",
              "\n",
              "      let percentDone = fileData.byteLength === 0 ?\n",
              "          100 :\n",
              "          Math.round((position / fileData.byteLength) * 100);\n",
              "      percent.textContent = `${percentDone}% done`;\n",
              "\n",
              "    } while (position < fileData.byteLength);\n",
              "  }\n",
              "\n",
              "  // All done.\n",
              "  yield {\n",
              "    response: {\n",
              "      action: 'complete',\n",
              "    }\n",
              "  };\n",
              "}\n",
              "\n",
              "scope.google = scope.google || {};\n",
              "scope.google.colab = scope.google.colab || {};\n",
              "scope.google.colab._files = {\n",
              "  _uploadFiles,\n",
              "  _uploadFilesContinue,\n",
              "};\n",
              "})(self);\n",
              "</script> "
            ]
          },
          "metadata": {}
        },
        {
          "output_type": "stream",
          "name": "stdout",
          "text": [
            "Saving Housing.csv to Housing.csv\n"
          ]
        }
      ]
    },
    {
      "cell_type": "code",
      "source": [
        "df = pd.read_csv(\"Housing.csv\")"
      ],
      "metadata": {
        "id": "piUvvjuYrEMg"
      },
      "execution_count": 4,
      "outputs": []
    },
    {
      "cell_type": "code",
      "source": [
        "df.head()"
      ],
      "metadata": {
        "colab": {
          "base_uri": "https://localhost:8080/",
          "height": 206
        },
        "id": "bjGRW7S3sGBd",
        "outputId": "6bc663df-2522-42cc-e00d-d321928b82e8"
      },
      "execution_count": 5,
      "outputs": [
        {
          "output_type": "execute_result",
          "data": {
            "text/plain": [
              "      price  area  bedrooms  bathrooms  stories mainroad guestroom basement  \\\n",
              "0  13300000  7420         4          2        3      yes        no       no   \n",
              "1  12250000  8960         4          4        4      yes        no       no   \n",
              "2  12250000  9960         3          2        2      yes        no      yes   \n",
              "3  12215000  7500         4          2        2      yes        no      yes   \n",
              "4  11410000  7420         4          1        2      yes       yes      yes   \n",
              "\n",
              "  hotwaterheating airconditioning  parking prefarea furnishingstatus  \n",
              "0              no             yes        2      yes        furnished  \n",
              "1              no             yes        3       no        furnished  \n",
              "2              no              no        2      yes   semi-furnished  \n",
              "3              no             yes        3      yes        furnished  \n",
              "4              no             yes        2       no        furnished  "
            ],
            "text/html": [
              "\n",
              "\n",
              "  <div id=\"df-71b04e29-166b-4002-aec6-5c3bf821dc48\">\n",
              "    <div class=\"colab-df-container\">\n",
              "      <div>\n",
              "<style scoped>\n",
              "    .dataframe tbody tr th:only-of-type {\n",
              "        vertical-align: middle;\n",
              "    }\n",
              "\n",
              "    .dataframe tbody tr th {\n",
              "        vertical-align: top;\n",
              "    }\n",
              "\n",
              "    .dataframe thead th {\n",
              "        text-align: right;\n",
              "    }\n",
              "</style>\n",
              "<table border=\"1\" class=\"dataframe\">\n",
              "  <thead>\n",
              "    <tr style=\"text-align: right;\">\n",
              "      <th></th>\n",
              "      <th>price</th>\n",
              "      <th>area</th>\n",
              "      <th>bedrooms</th>\n",
              "      <th>bathrooms</th>\n",
              "      <th>stories</th>\n",
              "      <th>mainroad</th>\n",
              "      <th>guestroom</th>\n",
              "      <th>basement</th>\n",
              "      <th>hotwaterheating</th>\n",
              "      <th>airconditioning</th>\n",
              "      <th>parking</th>\n",
              "      <th>prefarea</th>\n",
              "      <th>furnishingstatus</th>\n",
              "    </tr>\n",
              "  </thead>\n",
              "  <tbody>\n",
              "    <tr>\n",
              "      <th>0</th>\n",
              "      <td>13300000</td>\n",
              "      <td>7420</td>\n",
              "      <td>4</td>\n",
              "      <td>2</td>\n",
              "      <td>3</td>\n",
              "      <td>yes</td>\n",
              "      <td>no</td>\n",
              "      <td>no</td>\n",
              "      <td>no</td>\n",
              "      <td>yes</td>\n",
              "      <td>2</td>\n",
              "      <td>yes</td>\n",
              "      <td>furnished</td>\n",
              "    </tr>\n",
              "    <tr>\n",
              "      <th>1</th>\n",
              "      <td>12250000</td>\n",
              "      <td>8960</td>\n",
              "      <td>4</td>\n",
              "      <td>4</td>\n",
              "      <td>4</td>\n",
              "      <td>yes</td>\n",
              "      <td>no</td>\n",
              "      <td>no</td>\n",
              "      <td>no</td>\n",
              "      <td>yes</td>\n",
              "      <td>3</td>\n",
              "      <td>no</td>\n",
              "      <td>furnished</td>\n",
              "    </tr>\n",
              "    <tr>\n",
              "      <th>2</th>\n",
              "      <td>12250000</td>\n",
              "      <td>9960</td>\n",
              "      <td>3</td>\n",
              "      <td>2</td>\n",
              "      <td>2</td>\n",
              "      <td>yes</td>\n",
              "      <td>no</td>\n",
              "      <td>yes</td>\n",
              "      <td>no</td>\n",
              "      <td>no</td>\n",
              "      <td>2</td>\n",
              "      <td>yes</td>\n",
              "      <td>semi-furnished</td>\n",
              "    </tr>\n",
              "    <tr>\n",
              "      <th>3</th>\n",
              "      <td>12215000</td>\n",
              "      <td>7500</td>\n",
              "      <td>4</td>\n",
              "      <td>2</td>\n",
              "      <td>2</td>\n",
              "      <td>yes</td>\n",
              "      <td>no</td>\n",
              "      <td>yes</td>\n",
              "      <td>no</td>\n",
              "      <td>yes</td>\n",
              "      <td>3</td>\n",
              "      <td>yes</td>\n",
              "      <td>furnished</td>\n",
              "    </tr>\n",
              "    <tr>\n",
              "      <th>4</th>\n",
              "      <td>11410000</td>\n",
              "      <td>7420</td>\n",
              "      <td>4</td>\n",
              "      <td>1</td>\n",
              "      <td>2</td>\n",
              "      <td>yes</td>\n",
              "      <td>yes</td>\n",
              "      <td>yes</td>\n",
              "      <td>no</td>\n",
              "      <td>yes</td>\n",
              "      <td>2</td>\n",
              "      <td>no</td>\n",
              "      <td>furnished</td>\n",
              "    </tr>\n",
              "  </tbody>\n",
              "</table>\n",
              "</div>\n",
              "      <button class=\"colab-df-convert\" onclick=\"convertToInteractive('df-71b04e29-166b-4002-aec6-5c3bf821dc48')\"\n",
              "              title=\"Convert this dataframe to an interactive table.\"\n",
              "              style=\"display:none;\">\n",
              "\n",
              "  <svg xmlns=\"http://www.w3.org/2000/svg\" height=\"24px\"viewBox=\"0 0 24 24\"\n",
              "       width=\"24px\">\n",
              "    <path d=\"M0 0h24v24H0V0z\" fill=\"none\"/>\n",
              "    <path d=\"M18.56 5.44l.94 2.06.94-2.06 2.06-.94-2.06-.94-.94-2.06-.94 2.06-2.06.94zm-11 1L8.5 8.5l.94-2.06 2.06-.94-2.06-.94L8.5 2.5l-.94 2.06-2.06.94zm10 10l.94 2.06.94-2.06 2.06-.94-2.06-.94-.94-2.06-.94 2.06-2.06.94z\"/><path d=\"M17.41 7.96l-1.37-1.37c-.4-.4-.92-.59-1.43-.59-.52 0-1.04.2-1.43.59L10.3 9.45l-7.72 7.72c-.78.78-.78 2.05 0 2.83L4 21.41c.39.39.9.59 1.41.59.51 0 1.02-.2 1.41-.59l7.78-7.78 2.81-2.81c.8-.78.8-2.07 0-2.86zM5.41 20L4 18.59l7.72-7.72 1.47 1.35L5.41 20z\"/>\n",
              "  </svg>\n",
              "      </button>\n",
              "\n",
              "\n",
              "\n",
              "    <div id=\"df-487da60a-bebc-4dd9-8e21-510268f68ff6\">\n",
              "      <button class=\"colab-df-quickchart\" onclick=\"quickchart('df-487da60a-bebc-4dd9-8e21-510268f68ff6')\"\n",
              "              title=\"Suggest charts.\"\n",
              "              style=\"display:none;\">\n",
              "\n",
              "<svg xmlns=\"http://www.w3.org/2000/svg\" height=\"24px\"viewBox=\"0 0 24 24\"\n",
              "     width=\"24px\">\n",
              "    <g>\n",
              "        <path d=\"M19 3H5c-1.1 0-2 .9-2 2v14c0 1.1.9 2 2 2h14c1.1 0 2-.9 2-2V5c0-1.1-.9-2-2-2zM9 17H7v-7h2v7zm4 0h-2V7h2v10zm4 0h-2v-4h2v4z\"/>\n",
              "    </g>\n",
              "</svg>\n",
              "      </button>\n",
              "    </div>\n",
              "\n",
              "<style>\n",
              "  .colab-df-quickchart {\n",
              "    background-color: #E8F0FE;\n",
              "    border: none;\n",
              "    border-radius: 50%;\n",
              "    cursor: pointer;\n",
              "    display: none;\n",
              "    fill: #1967D2;\n",
              "    height: 32px;\n",
              "    padding: 0 0 0 0;\n",
              "    width: 32px;\n",
              "  }\n",
              "\n",
              "  .colab-df-quickchart:hover {\n",
              "    background-color: #E2EBFA;\n",
              "    box-shadow: 0px 1px 2px rgba(60, 64, 67, 0.3), 0px 1px 3px 1px rgba(60, 64, 67, 0.15);\n",
              "    fill: #174EA6;\n",
              "  }\n",
              "\n",
              "  [theme=dark] .colab-df-quickchart {\n",
              "    background-color: #3B4455;\n",
              "    fill: #D2E3FC;\n",
              "  }\n",
              "\n",
              "  [theme=dark] .colab-df-quickchart:hover {\n",
              "    background-color: #434B5C;\n",
              "    box-shadow: 0px 1px 3px 1px rgba(0, 0, 0, 0.15);\n",
              "    filter: drop-shadow(0px 1px 2px rgba(0, 0, 0, 0.3));\n",
              "    fill: #FFFFFF;\n",
              "  }\n",
              "</style>\n",
              "\n",
              "    <script>\n",
              "      async function quickchart(key) {\n",
              "        const containerElement = document.querySelector('#' + key);\n",
              "        const charts = await google.colab.kernel.invokeFunction(\n",
              "            'suggestCharts', [key], {});\n",
              "      }\n",
              "    </script>\n",
              "\n",
              "\n",
              "      <script>\n",
              "\n",
              "function displayQuickchartButton(domScope) {\n",
              "  let quickchartButtonEl =\n",
              "    domScope.querySelector('#df-487da60a-bebc-4dd9-8e21-510268f68ff6 button.colab-df-quickchart');\n",
              "  quickchartButtonEl.style.display =\n",
              "    google.colab.kernel.accessAllowed ? 'block' : 'none';\n",
              "}\n",
              "\n",
              "        displayQuickchartButton(document);\n",
              "      </script>\n",
              "      <style>\n",
              "    .colab-df-container {\n",
              "      display:flex;\n",
              "      flex-wrap:wrap;\n",
              "      gap: 12px;\n",
              "    }\n",
              "\n",
              "    .colab-df-convert {\n",
              "      background-color: #E8F0FE;\n",
              "      border: none;\n",
              "      border-radius: 50%;\n",
              "      cursor: pointer;\n",
              "      display: none;\n",
              "      fill: #1967D2;\n",
              "      height: 32px;\n",
              "      padding: 0 0 0 0;\n",
              "      width: 32px;\n",
              "    }\n",
              "\n",
              "    .colab-df-convert:hover {\n",
              "      background-color: #E2EBFA;\n",
              "      box-shadow: 0px 1px 2px rgba(60, 64, 67, 0.3), 0px 1px 3px 1px rgba(60, 64, 67, 0.15);\n",
              "      fill: #174EA6;\n",
              "    }\n",
              "\n",
              "    [theme=dark] .colab-df-convert {\n",
              "      background-color: #3B4455;\n",
              "      fill: #D2E3FC;\n",
              "    }\n",
              "\n",
              "    [theme=dark] .colab-df-convert:hover {\n",
              "      background-color: #434B5C;\n",
              "      box-shadow: 0px 1px 3px 1px rgba(0, 0, 0, 0.15);\n",
              "      filter: drop-shadow(0px 1px 2px rgba(0, 0, 0, 0.3));\n",
              "      fill: #FFFFFF;\n",
              "    }\n",
              "  </style>\n",
              "\n",
              "      <script>\n",
              "        const buttonEl =\n",
              "          document.querySelector('#df-71b04e29-166b-4002-aec6-5c3bf821dc48 button.colab-df-convert');\n",
              "        buttonEl.style.display =\n",
              "          google.colab.kernel.accessAllowed ? 'block' : 'none';\n",
              "\n",
              "        async function convertToInteractive(key) {\n",
              "          const element = document.querySelector('#df-71b04e29-166b-4002-aec6-5c3bf821dc48');\n",
              "          const dataTable =\n",
              "            await google.colab.kernel.invokeFunction('convertToInteractive',\n",
              "                                                     [key], {});\n",
              "          if (!dataTable) return;\n",
              "\n",
              "          const docLinkHtml = 'Like what you see? Visit the ' +\n",
              "            '<a target=\"_blank\" href=https://colab.research.google.com/notebooks/data_table.ipynb>data table notebook</a>'\n",
              "            + ' to learn more about interactive tables.';\n",
              "          element.innerHTML = '';\n",
              "          dataTable['output_type'] = 'display_data';\n",
              "          await google.colab.output.renderOutput(dataTable, element);\n",
              "          const docLink = document.createElement('div');\n",
              "          docLink.innerHTML = docLinkHtml;\n",
              "          element.appendChild(docLink);\n",
              "        }\n",
              "      </script>\n",
              "    </div>\n",
              "  </div>\n"
            ]
          },
          "metadata": {},
          "execution_count": 5
        }
      ]
    },
    {
      "cell_type": "markdown",
      "source": [
        "1. Write the linear regression hypothesis function in vector form;"
      ],
      "metadata": {
        "id": "qFXZLq6SxR4L"
      }
    },
    {
      "cell_type": "code",
      "source": [
        "def hypothesis(X, w):\n",
        "    return np.dot(X, w)"
      ],
      "metadata": {
        "id": "lX17ChnWtQks"
      },
      "execution_count": 6,
      "outputs": []
    },
    {
      "cell_type": "markdown",
      "source": [
        "2. Create a function for computing the loss function in vector form;"
      ],
      "metadata": {
        "id": "5T5diD2WxTrI"
      }
    },
    {
      "cell_type": "code",
      "source": [
        "def loss_function(X, y, w):\n",
        "    m = X.shape[0]\n",
        "    return np.square(hypothesis(X, w) - y).sum() / (2*m)"
      ],
      "metadata": {
        "id": "ztSZA-QPvOUd"
      },
      "execution_count": 7,
      "outputs": []
    },
    {
      "cell_type": "markdown",
      "source": [
        "3. Implement one step of gradient descent;"
      ],
      "metadata": {
        "id": "nTfTkACYxVSR"
      }
    },
    {
      "cell_type": "code",
      "source": [
        "def gradient(X, y, w):\n",
        "    m = y.size\n",
        "    h = hypothesis(X, w)\n",
        "    grad = X.T @ (h - y)   #.dot\n",
        "    return grad / m"
      ],
      "metadata": {
        "id": "JBBrDbu5veXC"
      },
      "execution_count": 8,
      "outputs": []
    },
    {
      "cell_type": "markdown",
      "source": [
        "4. Find the best parameters *w* for a dataset predicting house prices based on the area, number of bathrooms, and number of bedrooms;\n",
        "*This code fragment prepares the data and initializes parameters for further application of the gradient descent algorithm.*"
      ],
      "metadata": {
        "id": "qN8NxQAxxbn-"
      }
    },
    {
      "cell_type": "code",
      "source": [
        "X = df[[\"area\", \"bedrooms\", \"bathrooms\"]].values\n",
        "y = df[\"price\"].values.reshape(-1, 1)\n",
        "\n",
        "X_mean = X.mean(axis=0)\n",
        "X_std = X.std(axis=0)\n",
        "X_norm = (X - X_mean) / X_std\n",
        "\n",
        "y_mean = y.mean()\n",
        "y_std = y.std()\n",
        "y_norm = (y - y_mean) / y_std\n",
        "\n",
        "X_norm = np.hstack((np.ones((y.size, 1)), X_norm))\n",
        "\n",
        "n = X_norm.shape[1] - 1\n",
        "w = np.zeros((n+1, 1))\n",
        "\n",
        "learning_rate = 0.01\n",
        "num_iterations = 1500\n",
        "best_loss = np.inf\n",
        "best_weights = None\n",
        "loss_history = []"
      ],
      "metadata": {
        "id": "xJMMFvkQv3ec"
      },
      "execution_count": 9,
      "outputs": []
    },
    {
      "cell_type": "markdown",
      "source": [
        "*This code fragment performs iterations of gradient descent and tracks changes in losses and parameters.*"
      ],
      "metadata": {
        "id": "YEkZx4tC0zki"
      }
    },
    {
      "cell_type": "code",
      "source": [
        "for i in range(num_iterations):\n",
        "    grad = gradient(X_norm, y_norm, w)\n",
        "    w -= learning_rate * grad\n",
        "    loss = loss_function(X_norm, y_norm, w)\n",
        "    loss_history.append(loss)\n",
        "\n",
        "    if loss < best_loss:\n",
        "        best_loss = loss\n",
        "        best_weights = w.copy()"
      ],
      "metadata": {
        "id": "rJlplsvSy7Tc"
      },
      "execution_count": 10,
      "outputs": []
    },
    {
      "cell_type": "markdown",
      "source": [
        "*This code fragment utilizes the trained parameters to predict responses on normalized data and computes the Mean Squared Error (MSE) between the predicted responses and the normalized actual responses.*"
      ],
      "metadata": {
        "id": "TOV3naGM3YVb"
      }
    },
    {
      "cell_type": "code",
      "source": [
        "y_pred = hypothesis(X_norm, best_weights)\n",
        "mse = np.mean(np.square(y_norm - y_pred))"
      ],
      "metadata": {
        "id": "QrTQb9MXy_7C"
      },
      "execution_count": 11,
      "outputs": []
    },
    {
      "cell_type": "markdown",
      "source": [
        "\n",
        "##Option 2. Solving the problem using the sklearn library.\n",
        "*This code fragment uses the sklearn library to build linear regression and output the found model coefficients.*"
      ],
      "metadata": {
        "id": "60IrAxiB66xc"
      }
    },
    {
      "cell_type": "code",
      "source": [
        "X = np.array(df[['area', 'bedrooms', 'bathrooms']])\n",
        "y = np.array(df['price'])\n",
        "reg = LinearRegression().fit(X,y)\n",
        "\n",
        "print(f'Model intercept: {reg.intercept_}')\n",
        "print(f'Model coefficients: {reg.coef_}')"
      ],
      "metadata": {
        "colab": {
          "base_uri": "https://localhost:8080/"
        },
        "id": "3LKJr-iY66-9",
        "outputId": "d315c2b2-0a26-4131-a8ad-e90d9dfb9cf7"
      },
      "execution_count": 12,
      "outputs": [
        {
          "output_type": "stream",
          "name": "stdout",
          "text": [
            "Model intercept: -173171.6076326361\n",
            "Model coefficients: [3.78762754e+02 4.06820034e+05 1.38604950e+06]\n"
          ]
        }
      ]
    },
    {
      "cell_type": "markdown",
      "source": [
        "5. Find the same parameters using an analytical solution;\n",
        "*This code fragment utilizes an analytical method to calculate the parameters of linear regression, predicts responses on normalized data, and computes the Mean Squared Error (MSE) for the analytical solution.*"
      ],
      "metadata": {
        "id": "p0j91jzBxjQ7"
      }
    },
    {
      "cell_type": "code",
      "source": [
        "X_norm_analytical = np.hstack((np.ones((y.size, 1)), X_norm[:, 1:]))\n",
        "w_analytical = np.linalg.inv(X_norm_analytical.T @ X_norm_analytical) @ X_norm_analytical.T @ y_norm\n",
        "y_pred_analytical = hypothesis(X_norm_analytical, w_analytical)\n",
        "mse_analytical = np.mean(np.square(y_norm - y_pred_analytical))"
      ],
      "metadata": {
        "id": "TGxCjvcIwG2D"
      },
      "execution_count": 13,
      "outputs": []
    },
    {
      "cell_type": "markdown",
      "source": [
        "\n",
        "##Option 2. Solving the problem using the sklearn library.\n",
        "\n",
        "*This code fragment utilizes the analytical method to calculate the coefficients of the linear regression model.*"
      ],
      "metadata": {
        "id": "dmVqjG3Z76ub"
      }
    },
    {
      "cell_type": "code",
      "source": [
        "X = np.array(df[['area', 'bedrooms', 'bathrooms']])\n",
        "X = np.hstack([np.ones((X.shape[0], 1)), X])\n",
        "y = np.array(df['price'])\n",
        "params = np.linalg.inv(X.T.dot(X)).dot(X.T).dot(y)\n",
        "print('Model intercept:', params[0])\n",
        "print('Model coefficients:', params[1:])"
      ],
      "metadata": {
        "colab": {
          "base_uri": "https://localhost:8080/"
        },
        "id": "PAzogH1P764I",
        "outputId": "cc08e3b8-905c-494f-d4f5-f02bed812549"
      },
      "execution_count": 14,
      "outputs": [
        {
          "output_type": "stream",
          "name": "stdout",
          "text": [
            "Model intercept: -173171.6076326356\n",
            "Model coefficients: [3.78762754e+02 4.06820034e+05 1.38604950e+06]\n"
          ]
        }
      ]
    },
    {
      "cell_type": "markdown",
      "source": [
        "6. Compare the obtained results."
      ],
      "metadata": {
        "id": "BWI3Cd1dy3rf"
      }
    },
    {
      "cell_type": "code",
      "source": [
        "print(\"Mean squared error (gradient descent): {:.4f}\".format(mse))\n",
        "print(\"Mean squared error (analytical solution): {:.4f}\".format(mse_analytical))"
      ],
      "metadata": {
        "colab": {
          "base_uri": "https://localhost:8080/"
        },
        "id": "GiiGK8kfzJ0y",
        "outputId": "a8d5b21b-31ff-4a44-ca18-8a365d676528"
      },
      "execution_count": 15,
      "outputs": [
        {
          "output_type": "stream",
          "name": "stdout",
          "text": [
            "Mean squared error (gradient descent): 0.5129\n",
            "Mean squared error (analytical solution): 0.5129\n"
          ]
        }
      ]
    },
    {
      "cell_type": "code",
      "source": [
        "loss_df = pd.DataFrame(loss_history, columns=['loss'])\n",
        "loss_df['iteration'] = np.arange(num_iterations)\n",
        "sns.lineplot(x='iteration', y='loss', data=loss_df)\n",
        "plt.xlabel('Iteration')\n",
        "plt.ylabel('Loss')\n",
        "plt.title('Training Loss')\n",
        "plt.show()"
      ],
      "metadata": {
        "colab": {
          "base_uri": "https://localhost:8080/",
          "height": 465
        },
        "id": "VMC9NEf3-U8c",
        "outputId": "dfc78d17-7bac-48cc-e39b-0e447b96dfdf"
      },
      "execution_count": 16,
      "outputs": [
        {
          "output_type": "display_data",
          "data": {
            "text/plain": [
              "<Figure size 640x480 with 1 Axes>"
            ],
            "image/png": "[encoded data removed]"
          },
          "metadata": {}
        }
      ]
    },
    {
      "cell_type": "code",
      "source": [
        "loss_df = pd.DataFrame(loss_history, columns=['loss'])\n",
        "loss_df['iteration'] = np.arange(num_iterations)\n",
        "fig = px.line(loss_df, x='iteration', y='loss')\n",
        "fig.update_xaxes(title_text='Iteration')\n",
        "fig.update_yaxes(title_text='Loss')\n",
        "fig.update_layout(title_text='Training Loss', title_x=0.5, showlegend=False)\n",
        "fig.show()"
      ],
      "metadata": {
        "colab": {
          "base_uri": "https://localhost:8080/",
          "height": 542
        },
        "id": "InLz6NVVzQT2",
        "outputId": "e66b49e8-30d8-4e13-8507-c4c19abaa96b"
      },
      "execution_count": 17,
      "outputs": [
        {
          "output_type": "display_data",
          "data": {
            "text/html": [
              "<html>\n",
              "<head><meta charset=\"utf-8\" /></head>\n",
              "<body>\n",
              "    <div>            <script src=\"https://cdnjs.cloudflare.com/ajax/libs/mathjax/2.7.5/MathJax.js?config=TeX-AMS-MML_SVG\"></script><script type=\"text/javascript\">if (window.MathJax && window.MathJax.Hub && window.MathJax.Hub.Config) {window.MathJax.Hub.Config({SVG: {font: \"STIX-Web\"}});}</script>                <script type=\"text/javascript\">window.PlotlyConfig = {MathJaxConfig: 'local'};</script>\n",
              "        <script charset=\"utf-8\" src=\"https://cdn.plot.ly/plotly-2.24.1.min.js\"></script>                <div id=\"f0491b88-eb36-44f5-ad92-871d3730a42f\" class=\"plotly-graph-div\" style=\"height:525px; width:100%;\"></div>            <script type=\"text/javascript\">                                    window.PLOTLYENV=window.PLOTLYENV || {};                                    if (document.getElementById(\"f0491b88-eb36-44f5-ad92-871d3730a42f\")) {                    Plotly.newPlot(                        \"f0491b88-eb36-44f5-ad92-871d3730a42f\",                        [{\"hovertemplate\":\"iteration=%{x}\\u003cbr\\u003eloss=%{y}\\u003cextra\\u003e\\u003c\\u002fextra\\u003e\",\"legendgroup\":\"\",\"line\":{\"color\":\"#636efa\",\"dash\":\"solid\"},\"marker\":{\"symbol\":\"circle\"},\"mode\":\"lines\",\"name\":\"\",\"showlegend\":false,\"x\":[0,1,2,3,4,5,6,7,8,9,10,11,12,13,14,15,16,17,18,19,20,21,22,23,24,25,26,27,28,29,30,31,32,33,34,35,36,37,38,39,40,41,42,43,44,45,46,47,48,49,50,51,52,53,54,55,56,57,58,59,60,61,62,63,64,65,66,67,68,69,70,71,72,73,74,75,76,77,78,79,80,81,82,83,84,85,86,87,88,89,90,91,92,93,94,95,96,97,98,99,100,101,102,103,104,105,106,107,108,109,110,111,112,113,114,115,116,117,118,119,120,121,122,123,124,125,126,127,128,129,130,131,132,133,134,135,136,137,138,139,140,141,142,143,144,145,146,147,148,149,150,151,152,153,154,155,156,157,158,159,160,161,162,163,164,165,166,167,168,169,170,171,172,173,174,175,176,177,178,179,180,181,182,183,184,185,186,187,188,189,190,191,192,193,194,195,196,197,198,199,200,201,202,203,204,205,206,207,208,209,210,211,212,213,214,215,216,217,218,219,220,221,222,223,224,225,226,227,228,229,230,231,232,233,234,235,236,237,238,239,240,241,242,243,244,245,246,247,248,249,250,251,252,253,254,255,256,257,258,259,260,261,262,263,264,265,266,267,268,269,270,271,272,273,274,275,276,277,278,279,280,281,282,283,284,285,286,287,288,289,290,291,292,293,294,295,296,297,298,299,300,301,302,303,304,305,306,307,308,309,310,311,312,313,314,315,316,317,318,319,320,321,322,323,324,325,326,327,328,329,330,331,332,333,334,335,336,337,338,339,340,341,342,343,344,345,346,347,348,349,350,351,352,353,354,355,356,357,358,359,360,361,362,363,364,365,366,367,368,369,370,371,372,373,374,375,376,377,378,379,380,381,382,383,384,385,386,387,388,389,390,391,392,393,394,395,396,397,398,399,400,401,402,403,404,405,406,407,408,409,410,411,412,413,414,415,416,417,418,419,420,421,422,423,424,425,426,427,428,429,430,431,432,433,434,435,436,437,438,439,440,441,442,443,444,445,446,447,448,449,450,451,452,453,454,455,456,457,458,459,460,461,462,463,464,465,466,467,468,469,470,471,472,473,474,475,476,477,478,479,480,481,482,483,484,485,486,487,488,489,490,491,492,493,494,495,496,497,498,499,500,501,502,503,504,505,506,507,508,509,510,511,512,513,514,515,516,517,518,519,520,521,522,523,524,525,526,527,528,529,530,531,532,533,534,535,536,537,538,539,540,541,542,543,544,545,546,547,548,549,550,551,552,553,554,555,556,557,558,559,560,561,562,563,564,565,566,567,568,569,570,571,572,573,574,575,576,577,578,579,580,581,582,583,584,585,586,587,588,589,590,591,592,593,594,595,596,597,598,599,600,601,602,603,604,605,606,607,608,609,610,611,612,613,614,615,616,617,618,619,620,621,622,623,624,625,626,627,628,629,630,631,632,633,634,635,636,637,638,639,640,641,642,643,644,645,646,647,648,649,650,651,652,653,654,655,656,657,658,659,660,661,662,663,664,665,666,667,668,669,670,671,672,673,674,675,676,677,678,679,680,681,682,683,684,685,686,687,688,689,690,691,692,693,694,695,696,697,698,699,700,701,702,703,704,705,706,707,708,709,710,711,712,713,714,715,716,717,718,719,720,721,722,723,724,725,726,727,728,729,730,731,732,733,734,735,736,737,738,739,740,741,742,743,744,745,746,747,748,749,750,751,752,753,754,755,756,757,758,759,760,761,762,763,764,765,766,767,768,769,770,771,772,773,774,775,776,777,778,779,780,781,782,783,784,785,786,787,788,789,790,791,792,793,794,795,796,797,798,799,800,801,802,803,804,805,806,807,808,809,810,811,812,813,814,815,816,817,818,819,820,821,822,823,824,825,826,827,828,829,830,831,832,833,834,835,836,837,838,839,840,841,842,843,844,845,846,847,848,849,850,851,852,853,854,855,856,857,858,859,860,861,862,863,864,865,866,867,868,869,870,871,872,873,874,875,876,877,878,879,880,881,882,883,884,885,886,887,888,889,890,891,892,893,894,895,896,897,898,899,900,901,902,903,904,905,906,907,908,909,910,911,912,913,914,915,916,917,918,919,920,921,922,923,924,925,926,927,928,929,930,931,932,933,934,935,936,937,938,939,940,941,942,943,944,945,946,947,948,949,950,951,952,953,954,955,956,957,958,959,960,961,962,963,964,965,966,967,968,969,970,971,972,973,974,975,976,977,978,979,980,981,982,983,984,985,986,987,988,989,990,991,992,993,994,995,996,997,998,999,1000,1001,1002,1003,1004,1005,1006,1007,1008,1009,1010,1011,1012,1013,1014,1015,1016,1017,1018,1019,1020,1021,1022,1023,1024,1025,1026,1027,1028,1029,1030,1031,1032,1033,1034,1035,1036,1037,1038,1039,1040,1041,1042,1043,1044,1045,1046,1047,1048,1049,1050,1051,1052,1053,1054,1055,1056,1057,1058,1059,1060,1061,1062,1063,1064,1065,1066,1067,1068,1069,1070,1071,1072,1073,1074,1075,1076,1077,1078,1079,1080,1081,1082,1083,1084,1085,1086,1087,1088,1089,1090,1091,1092,1093,1094,1095,1096,1097,1098,1099,1100,1101,1102,1103,1104,1105,1106,1107,1108,1109,1110,1111,1112,1113,1114,1115,1116,1117,1118,1119,1120,1121,1122,1123,1124,1125,1126,1127,1128,1129,1130,1131,1132,1133,1134,1135,1136,1137,1138,1139,1140,1141,1142,1143,1144,1145,1146,1147,1148,1149,1150,1151,1152,1153,1154,1155,1156,1157,1158,1159,1160,1161,1162,1163,1164,1165,1166,1167,1168,1169,1170,1171,1172,1173,1174,1175,1176,1177,1178,1179,1180,1181,1182,1183,1184,1185,1186,1187,1188,1189,1190,1191,1192,1193,1194,1195,1196,1197,1198,1199,1200,1201,1202,1203,1204,1205,1206,1207,1208,1209,1210,1211,1212,1213,1214,1215,1216,1217,1218,1219,1220,1221,1222,1223,1224,1225,1226,1227,1228,1229,1230,1231,1232,1233,1234,1235,1236,1237,1238,1239,1240,1241,1242,1243,1244,1245,1246,1247,1248,1249,1250,1251,1252,1253,1254,1255,1256,1257,1258,1259,1260,1261,1262,1263,1264,1265,1266,1267,1268,1269,1270,1271,1272,1273,1274,1275,1276,1277,1278,1279,1280,1281,1282,1283,1284,1285,1286,1287,1288,1289,1290,1291,1292,1293,1294,1295,1296,1297,1298,1299,1300,1301,1302,1303,1304,1305,1306,1307,1308,1309,1310,1311,1312,1313,1314,1315,1316,1317,1318,1319,1320,1321,1322,1323,1324,1325,1326,1327,1328,1329,1330,1331,1332,1333,1334,1335,1336,1337,1338,1339,1340,1341,1342,1343,1344,1345,1346,1347,1348,1349,1350,1351,1352,1353,1354,1355,1356,1357,1358,1359,1360,1361,1362,1363,1364,1365,1366,1367,1368,1369,1370,1371,1372,1373,1374,1375,1376,1377,1378,1379,1380,1381,1382,1383,1384,1385,1386,1387,1388,1389,1390,1391,1392,1393,1394,1395,1396,1397,1398,1399,1400,1401,1402,1403,1404,1405,1406,1407,1408,1409,1410,1411,1412,1413,1414,1415,1416,1417,1418,1419,1420,1421,1422,1423,1424,1425,1426,1427,1428,1429,1430,1431,1432,1433,1434,1435,1436,1437,1438,1439,1440,1441,1442,1443,1444,1445,1446,1447,1448,1449,1450,1451,1452,1453,1454,1455,1456,1457,1458,1459,1460,1461,1462,1463,1464,1465,1466,1467,1468,1469,1470,1471,1472,1473,1474,1475,1476,1477,1478,1479,1480,1481,1482,1483,1484,1485,1486,1487,1488,1489,1490,1491,1492,1493,1494,1495,1496,1497,1498,1499],\"xaxis\":\"x\",\"y\":[0.493155283492993,0.4865073489329111,0.48005046336548945,0.47377906214853693,0.46768774398841795,0.4617712661232906,0.4560245396487498,0.4504426249816644,0.4450207274581129,0.4397541930614473,0.4346385042766353,0.4296692760671375,0.4248422519706964,0.42015330031051346,0.4155984105184003,0.4111736895665872,0.4068753585049748,0.40269974910070605,0.398643300577029,0.39470255644851343,0.3908741614497688,0.3871548585548937,0.3835414860849758,0.38003097490103144,0.3766203456798605,0.37330670627036033,0.37008724912791724,0.3669592488245684,0.36392005963268753,0.36096711318002234,0.3580979161739707,0.3553100481930478,0.3526011595435552,0.3499689691795242,0.3474112626840609,0.3449258903102755,0.3425107650800354,0.3401638609388292,0.33788321096508395,0.33566690563232343,0.33351309112260497,0.3314199676897195,0.3293857880706802,0.3274088559440752,0.3254875244338951,0.3236201946574934,0.32180531431637244,0.3200413763285304,0.3183269175011394,0.31666051724236316,0.3150407963111552,0.3134664156039182,0.31193607497693043,0.3104485121034863,0.3090025013647213,0.3075968527731284,0.30623041092779774,0.30490205400044323,0.30361069275130614,0.3023552695740517,0.30113475756880326,0.2999481596424824,0.2987945076356464,0.2976728614750438,0.29658230835112387,0.29552196191976676,0.29449096152751597,0.2934884714596207,0.2925136802102133,0.2915657997739685,0.29064406495861017,0.2897477327176493,0.28887608150275657,0.28802841063518925,0.28720403969570946,0.28640230793244914,0.2856225736861901,0.2848642138325473,0.2841266232405531,0.28340921424716303,0.28271141614720774,0.28203267469834026,0.28137245164053276,0.28073022422969424,0.28010548478499425,0.27949774024948476,0.2789065117636316,0.2783313342513723,0.27777175601833115,0.27722733836183355,0.2766976551923713,0.27618229266618094,0.2756808488286077,0.275192933267937,0.2747181667793847,0.27425618103894656,0.2738066182868167,0.2733691310200927,0.2729433816944933,0.2725290424348238,0.2721257947539305,0.27173332927989496,0.2713513454912249,0.27097955145980523,0.2706176636013827,0.2702654064333601,0.26992251233968606,0.2695887213426308,0.2692637808812456,0.2689474455963086,0.2686394771215665,0.2683396438810863,0.2680477208925377,0.26776348957623153,0.2674867375697439,0.26721725854796347,0.26695485204840064,0.26669932330160445,0.26645048306653724,0.26620814747076044,0.26597213785529156,0.26574228062399213,0.2655184070973573,0.2653003533705736,0.2650879601757226,0.2648810727480068,0.26467954069588023,0.26448321787496865,0.26429196226566837,0.2641056358543152,0.2639241045178192,0.26374723791166294,0.2635749093611645,0.26340699575590953,0.26324337744725945,0.2630839381488451,0.26292856483995874,0.26277714767175847,0.26262957987620333,0.2624857576776391,0.2623455802069558,0.2622089494182432,0.26207577000786886,0.261945949335911,0.2618193973498726,0.26169602651061463,0.2615757517204396,0.26145849025326445,0.26134416168682123,0.26123268783682535,0.26112399269305486,0.261018002357284,0.2609146449830173,0.26081385071697094,0.2607155516422503,0.26061968172317485,0.26052617675170103,0.2604349742953972,0.26034601364692467,0.2602592357749814,0.26017458327666515,0.2600920003312142,0.2600114326550866,0.2599328274583374,0.25985613340225705,0.25978130055823356,0.25970828036780236,0.2596370256038503,0.25956749033293924,0.25949962987871567,0.25943340078637717,0.25936876078816273,0.25930566876983746,0.2592440847381431,0.2591839697891862,0.2591252860777364,0.259067996787408,0.2590120661016997,0.2589574591758671,0.25890414210960383,0.2588520819205075,0.25880124651830816,0.2587516046798365,0.2587031260247109,0.25865578099172143,0.25860954081589166,0.2585643775061977,0.25852026382392584,0.2584771732616503,0.25843508002281235,0.25839395900188394,0.25835378576509954,0.2583145365317376,0.258276188155938,0.2582387181090385,0.25820210446241565,0.2581663258708152,0.2581313615561585,0.25809719129181014,0.2580637953872941,0.2580311546734456,0.2579992504879853,0.2579680646615039,0.25793757950384605,0.25790777779088053,0.257878642751647,0.2578501580558675,0.257822307801812,0.2577950765045091,0.2577684490842904,0.2577424108556594,0.2577169475164761,0.2576920451374474,0.2576676901519147,0.25764386934593125,0.2576205698486183,0.2575977791227949,0.2575754849558718,0.2575536754510019,0.25753233901848044,0.2575114643673878,0.2574910404974672,0.2574710566912306,0.25745150250628784,0.2574323677678899,0.2574136425616829,0.25739531722666414,0.2573773823483372,0.2573598287520575,0.25734264749656555,0.25732582986770003,0.2573093673722875,0.257293251732203,0.2572774748785961,0.25726202894627803,0.2572469062682664,0.25723209937048064,0.2572176009665862,0.2572034039529819,0.25718950140392643,0.257175886566801,0.2571625528575031,0.25714949385596747,0.25713670330181304,0.2571241750901085,0.25711190326725647,0.25709988202699086,0.25708810570648505,0.25707656878256774,0.25706526586804307,0.2570541917081119,0.2570433411768923,0.25703270927403554,0.25702229112143476,0.2570120819600251,0.25700207714667034,0.25699227215113624,0.2569826625531458,0.2569732440395158,0.2569640124013718,0.25695496353143815,0.2569460934214036,0.25693739815935773,0.25692887392729713,0.2569205169987005,0.2569123237361688,0.25690429058912934,0.2568964140916037,0.25688869086003463,0.256881117591172,0.2568736910600174,0.2568664081178222,0.2568592656901418,0.2568522607749405,0.256845390440749,0.2568386518248707,0.25683204213163613,0.2568255586307053,0.25681919865541397,0.2568129596011662,0.25680683892386813,0.256800834138405,0.25679494281715826,0.25678916258856266,0.25678349113570087,0.25677792619493695,0.2567724655545849,0.2567671070536136,0.2567618485803853,0.25675668807142804,0.25675162351024056,0.2567466529261286,0.2567417743930718,0.2567369860286212,0.25673228599282516,0.2567276724871838,0.25672314375363037,0.2567186980735403,0.2567143337667659,0.25671004919069573,0.25670584273933933,0.2567017128424354,0.2566976579645837,0.25669367660439885,0.2566897672936868,0.2566859285966425,0.2566821591090681,0.25667845745761175,0.2566748222990263,0.25667125231944593,0.2566677462336836,0.25666430278454394,0.25666092074215663,0.2566575989033245,0.2566543360908895,0.25665113115311505,0.2566479829630838,0.2566448904181106,0.25664185243917115,0.25663886797034435,0.25663593597826934,0.25663305545161647,0.25663022540057095,0.25662744485633054,0.2566247128706152,0.2566220285151893,0.25661939088139585,0.2566167990797031,0.25661425223926093,0.2566117495074705,0.2566092900495626,0.25660687304818824,0.2566044977030179,0.25660216323035245,0.2565998688627424,0.25659761384861673,0.2565953974519222,0.25659321895176973,0.256591077642091,0.25658897283130266,0.2565869038419792,0.256584870010534,0.25658287068690755,0.2565809052342639,0.25657897302869487,0.25657707345893005,0.2565752059260555,0.2565733698432383,0.25657156463545827,0.25656978973924593,0.25656804460242666,0.25656632868387164,0.25656464145325414,0.256562982390812,0.256561350987116,0.2565597467428432,0.2565581691685562,0.25655661778448785,0.25655509212033,0.256553591715029,0.25655211611658446,0.25655066488185385,0.2565492375763608,0.2565478337741091,0.2565464530574,0.2565450950166543,0.25654375925023876,0.2565424453642962,0.2565411529725799,0.2565398816962915,0.25653863116392345,0.2565374010111038,0.25653619088044616,0.2565350004214018,0.2565338292901162,0.256532677149288,0.2565315436680321,0.256530428521745,0.25652933139197415,0.25652825196628953,0.2565271899381586,0.2565261450068239,0.25652511687718355,0.25652410525967456,0.2565231098701585,0.25652213042981,0.25652116666500757,0.2565202183072271,0.2565192850929377,0.25651836676349987,0.2565174630650656,0.2565165737484815,0.25651569856919326,0.25651483728715274,0.2565139896667269,0.25651315547660897,0.2565123344897313,0.2565115264831804,0.25651073123811363,0.2565099485396779,0.25650917817693025,0.2565084199427596,0.2565076736338109,0.25650693905041083,0.2565062159964945,0.2565055042795345,0.2565048037104711,0.256504114103644,0.2565034352767257,0.2565027670506561,0.25650210924957867,0.2565014617007779,0.256500824234618,0.2565001966844833,0.2564995788867194,0.256498970680576,0.2564983719081506,0.2564977824143338,0.25649720204675514,0.2564966306557311,0.2564960680942128,0.25649551421773614,0.25649496888437207,0.25649443195467847,0.2564939032916528,0.25649338276068545,0.2564928702295146,0.2564923655681821,0.25649186864898915,0.25649137934645433,0.25649089753727145,0.25649042310026926,0.2564899559163706,0.25648949586855385,0.25648904284181434,0.2564885967231263,0.25648815740140674,0.2564877247674787,0.2564872987140362,0.2564868791356096,0.25648646592853136,0.25648605899090304,0.25648565822256286,0.2564852635250531,0.2564848748015895,0.2564844919570302,0.25648411489784567,0.25648374353208975,0.25648337776936986,0.25648301752081964,0.2564826626990706,0.2564823132182252,0.2564819689938301,0.25648162994284995,0.2564812959836421,0.25648096703593115,0.2564806430207846,0.2564803238605885,0.2564800094790238,0.25647969980104335,0.25647939475284903,0.2564790942618693,0.2564787982567379,0.2564785066672714,0.25647821942444915,0.25647793646039196,0.2564776577083425,0.25647738310264484,0.2564771125787253,0.2564768460730734,0.2564765835232231,0.2564763248677342,0.2564760700461747,0.25647581899910266,0.2564755716680496,0.2564753279955026,0.2564750879248882,0.2564748514005559,0.2564746183677621,0.25647438877265405,0.25647416256225486,0.25647393968444815,0.25647372008796276,0.2564735037223587,0.25647329053801265,0.25647308048610373,0.2564728735185996,0.2564726695882434,0.2564724686485398,0.25647227065374234,0.2564720755588407,0.25647188331954773,0.2564716938922873,0.2564715072341825,0.2564713233030428,0.2564711420573535,0.25647096345626363,0.2564707874595748,0.25647061402772997,0.25647044312180295,0.25647027470348743,0.25647010873508685,0.2564699451795035,0.2564697840002293,0.2564696251613353,0.25646946862746184,0.25646931436380943,0.2564691623361294,0.2564690125107139,0.256468864854388,0.25646871933449983,0.2564685759189124,0.2564684345759949,0.256468295274614,0.25646815798412603,0.2564680226743687,0.25646788931565284,0.2564677578787549,0.25646762833490916,0.2564675006558002,0.25646737481355514,0.2564672507807368,0.25646712853033643,0.2564670080357664,0.25646688927085337,0.2564667722098318,0.2564666568273369,0.25646654309839806,0.25646643099843275,0.25646632050323986,0.2564662115889936,0.2564661042322372,0.25646599840987727,0.25646589409917747,0.256465791277753,0.25646568992356467,0.25646559001491354,0.25646549153043513,0.2564653944490943,0.2564652987501795,0.25646520441329806,0.2564651114183707,0.25646501974562635,0.2564649293755977,0.25646484028911587,0.2564647524673056,0.2564646658915809,0.25646458054363996,0.2564644964054608,0.2564644134592971,0.256464331687673,0.2564642510733798,0.2564641715994706,0.2564640932492569,0.25646401600630436,0.25646393985442834,0.2564638647776905,0.25646379076039444,0.256463717787082,0.2564636458425294,0.256463574911744,0.25646350497995973,0.2564634360326343,0.25646336805544534,0.25646330103428683,0.2564632349552661,0.2564631698046998,0.25646310556911117,0.25646304223522665,0.25646297978997235,0.25646291822047157,0.2564628575140408,0.25646279765818775,0.2564627386406073,0.2564626804491794,0.2564626230719656,0.25646256649720645,0.256462510713319,0.2564624557088932,0.25646240147269017,0.2564623479936389,0.25646229526083375,0.25646224326353206,0.25646219199115156,0.2564621414332676,0.25646209157961103,0.2564620424200657,0.25646199394466596,0.2564619461435944,0.2564618990071798,0.2564618525258943,0.25646180669035173,0.25646176149130523,0.256461716919645,0.2564616729663961,0.2564616296227169,0.25646158687989623,0.25646154472935234,0.2564615031626298,0.2564614621713983,0.25646142174745085,0.2564613818827011,0.25646134256918246,0.2564613037990453,0.256461265564556,0.2564612278580946,0.25646119067215345,0.25646115399933506,0.25646111783235087,0.25646108216401936,0.2564610469872643,0.2564610122951134,0.2564609780806966,0.25646094433724465,0.25646091105808716,0.2564608782366515,0.2564608458664613,0.25646081394113474,0.2564607824543835,0.2564607514000109,0.2564607207719107,0.25646069056406573,0.2564606607705468,0.2564606313855109,0.2564606024032001,0.25646057381794046,0.25646054562414045,0.25646051781628987,0.2564604903889587,0.2564604633367956,0.25646043665452706,0.25646041033695605,0.25646038437896096,0.2564603587754943,0.2564603335215817,0.2564603086123209,0.25646028404288057,0.2564602598084991,0.256460235904484,0.2564602123262103,0.2564601890691199,0.2564601661287205,0.25646014350058466,0.25646012118034867,0.2564600991637117,0.256460077446435,0.25646005602434063,0.2564600348933109,0.2564600140492872,0.25645999348826953,0.25645997320631503,0.2564599531995376,0.256459933464107,0.25645991399624773,0.2564598947922386,0.2564598758484114,0.25645985716115105,0.2564598387268936,0.25645982054212657,0.2564598026033873,0.256459784907263,0.25645976745038945,0.2564597502294503,0.25645973324117693,0.25645971648234694,0.2564596999497841,0.25645968364035754,0.25645966755098076,0.25645965167861123,0.2564596360202499,0.25645962057294025,0.2564596053337677,0.25645959029985926,0.25645957546838266,0.2564595608365458,0.25645954640159635,0.25645953216082085,0.2564595181115444,0.25645950425112984,0.25645949057697764,0.2564594770865249,0.256459463777245,0.25645945064664705,0.2564594376922753,0.25645942491170887,0.256459412302561,0.2564593998624784,0.2564593875891415,0.2564593754802629,0.2564593635335878,0.256459351746893,0.25645934011798666,0.2564593286447078,0.25645931732492583,0.2564593061565402,0.2564592951374798,0.25645928426570264,0.2564592735391955,0.25645926295597327,0.2564592525140789,0.2564592422115826,0.2564592320465818,0.2564592220172004,0.2564592121215888,0.2564592023579231,0.25645919272440515,0.2564591832192617,0.2564591738407445,0.25645916458712975,0.25645915545671755,0.2564591464478318,0.2564591375588199,0.2564591287880524,0.25645912013392214,0.256459111594845,0.25645910316925835,0.2564590948556216,0.25645908665241574,0.25645907855814265,0.25645907057132517,0.25645906269050656,0.25645905491425064,0.25645904724114094,0.2564590396697806,0.2564590321987923,0.2564590248268179,0.2564590175525178,0.25645901037457147,0.2564590032916761,0.2564589963025474,0.2564589894059186,0.2564589826005406,0.25645897588518146,0.25645896925862643,0.2564589627196775,0.25645895626715315,0.25645894989988827,0.2564589436167338,0.25645893741655656,0.256458931298239,0.2564589252606789,0.2564589193027895,0.2564589134234987,0.25645890762174933,0.25645890189649884,0.2564588962467188,0.25645889067139527,0.25645888516952786,0.25645887974013026,0.25645887438222964,0.2564588690948665,0.25645886387709443,0.2564588587279802,0.25645885364660326,0.2564588486320557,0.2564588436834421,0.2564588387998792,0.2564588339804961,0.2564588292244336,0.25645882453084423,0.25645881989889235,0.2564588153277536,0.256458810816615,0.2564588063646744,0.25645880197114096,0.2564587976352345,0.2564587933561854,0.2564587891332347,0.25645878496563385,0.25645878085264423,0.2564587767935376,0.25645877278759543,0.25645876883410906,0.25645876493237957,0.2564587610817175,0.2564587572814425,0.256458753530884,0.25645874982938016,0.25645874617627823,0.2564587425709345,0.25645873901271365,0.25645873550098947,0.2564587320351438,0.25645872861456703,0.2564587252386579,0.25645872190682345,0.2564587186184783,0.25645871537304543,0.2564587121699554,0.25645870900864653,0.25645870588856484,0.2564587028091638,0.2564586997699043,0.25645869677025435,0.25645869380968944,0.25645869088769185,0.2564586880037511,0.2564586851573635,0.25645868234803215,0.2564586795752668,0.25645867683858403,0.25645867413750667,0.2564586714715643,0.2564586688402925,0.2564586662432333,0.256458663679935,0.25645866114995164,0.2564586586528436,0.25645865618817704,0.25645865375552396,0.2564586513544622,0.25645864898457504,0.2564586466454517,0.2564586443366866,0.2564586420578799,0.2564586398086368,0.25645863758856813,0.25645863539728975,0.25645863323442275,0.25645863109959316,0.2564586289924322,0.2564586269125759,0.2564586248596655,0.2564586228333464,0.2564586208332694,0.2564586188590896,0.2564586169104668,0.25645861498706535,0.25645861308855417,0.25645861121460656,0.25645860936490006,0.2564586075391167,0.2564586057369427,0.2564586039580684,0.2564586022021884,0.25645860046900126,0.25645859875820964,0.25645859706952007,0.25645859540264304,0.256458593757293,0.25645859213318817,0.2564585905300502,0.25645858894760504,0.2564585873855818,0.25645858584371345,0.25645858432173635,0.25645858281939043,0.2564585813364192,0.2564585798725693,0.25645857842759107,0.2564585770012379,0.2564585755932668,0.25645857420343743,0.25645857283151313,0.2564585714772603,0.25645857014044826,0.25645856882084966,0.25645856751823976,0.25645856623239727,0.25645856496310354,0.2564585637101428,0.25645856247330234,0.25645856125237215,0.25645856004714485,0.25645855885741614,0.25645855768298415,0.25645855652364974,0.2564585553792165,0.25645855424949054,0.2564585531342805,0.25645855203339757,0.2564585509466556,0.2564585498738706,0.25645854881486124,0.2564585477694485,0.2564585467374556,0.2564585457187085,0.2564585447130349,0.2564585437202652,0.25645854274023183,0.2564585417727695,0.25645854081771513,0.2564585398749077,0.25645853894418824,0.25645853802540014,0.2564585371183887,0.25645853622300113,0.2564585353390868,0.2564585344664971,0.25645853360508525,0.2564585327547065,0.2564585319152179,0.25645853108647854,0.2564585302683491,0.25645852946069236,0.25645852866337276,0.25645852787625656,0.2564585270992117,0.256458526332108,0.2564585255748169,0.25645852482721143,0.25645852408916653,0.2564585233605586,0.25645852264126556,0.25645852193116714,0.2564585212301447,0.25645852053808077,0.2564585198548599,0.25645851918036777,0.25645851851449175,0.25645851785712065,0.25645851720814483,0.25645851656745583,0.2564585159349468,0.2564585153105122,0.25645851469404807,0.25645851408545145,0.2564585134846211,0.25645851289145677,0.2564585123058598,0.25645851172773265,0.2564585111569791,0.2564585105935042,0.2564585100372142,0.2564585094880166,0.25645850894582006,0.25645850841053464,0.25645850788207114,0.25645850736034204,0.2564585068452605,0.25645850633674117,0.25645850583469953,0.2564585053390524,0.2564585048497176,0.2564585043666139,0.25645850388966124,0.2564585034187806,0.256458502953894,0.2564585024949243,0.25645850204179566,0.25645850159443295,0.2564585011527623,0.25645850071671056,0.2564585002862055,0.256458499861176,0.25645849944155197,0.2564584990272638,0.25645849861824327,0.2564584982144226,0.2564584978157353,0.25645849742211535,0.256458497033498,0.25645849664981907,0.2564584962710151,0.25645849589702385,0.2564584955277835,0.2564584951632332,0.256458494803313,0.2564584944479635,0.2564584940971261,0.25645849375074325,0.25645849340875776,0.2564584930711134,0.25645849273775456,0.2564584924086265,0.256458492083675,0.25645849176284663,0.25645849144608873,0.2564584911333492,0.25645849082457667,0.2564584905197204,0.25645849021873035,0.256458489921557,0.25645848962815176,0.2564584893384664,0.25645848905245333,0.2564584887700657,0.25645848849125724,0.25645848821598205,0.2564584879441953,0.25645848767585216,0.2564584874109089,0.256458487149322,0.25645848689104866,0.25645848663604653,0.256458486384274,0.2564584861356898,0.2564584858902531,0.25645848564792406,0.2564584854086628,0.25645848517243036,0.256458484939188,0.25645848470889765,0.2564584844815217,0.256458484257023,0.25645848403536486,0.25645848381651115,0.25645848360042606,0.25645848338707433,0.25645848317642117,0.25645848296843216,0.25645848276307354,0.25645848256031156,0.25645848236011337,0.25645848216244627,0.256458481967278,0.25645848177457686,0.2564584815843113,0.2564584813964505,0.2564584812109637,0.2564584810278208,0.2564584808469921,0.2564584806684479,0.25645848049215925,0.25645848031809765,0.2564584801462346,0.25645847997654214,0.2564584798089927,0.2564584796435592,0.25645847948021455,0.2564584793189324,0.25645847915968634,0.25645847900245056,0.2564584788471996,0.2564584786939082,0.2564584785425515,0.2564584783931049,0.2564584782455442,0.2564584780998454,0.2564584779559849,0.2564584778139393,0.2564584776736857,0.2564584775352013,0.2564584773984635,0.2564584772634504,0.25645847713013986,0.2564584769985105,0.25645847686854095,0.25645847674021005,0.2564584766134971,0.25645847648838155,0.2564584763648432,0.25645847624286194,0.25645847612241823,0.2564584760034924,0.25645847588606535,0.25645847577011793,0.25645847565563157,0.2564584755425876,0.2564584754309678,0.2564584753207542,0.25645847521192894,0.2564584751044744,0.2564584749983732,0.2564584748936083,0.25645847479016276,0.2564584746880198,0.25645847458716303,0.2564584744875761,0.2564584743892429,0.25645847429214763,0.2564584741962747,0.2564584741016085,0.2564584740081338,0.25645847391583565,0.256458473824699,0.2564584737347092,0.2564584736458518,0.2564584735581124,0.25645847347147693,0.2564584733859315,0.2564584733014621,0.25645847321805537,0.2564584731356977,0.25645847305437597,0.2564584729740769,0.2564584728947878,0.25645847281649575,0.25645847273918815,0.25645847266285265,0.25645847258747695,0.2564584725130489,0.2564584724395565,0.25645847236698793,0.2564584722953316,0.2564584722245759,0.2564584721547095,0.25645847208572126,0.25645847201759997,0.25645847195033467,0.25645847188391463,0.25645847181832915,0.25645847175356773,0.2564584716896199,0.25645847162647545,0.25645847156412427,0.2564584715025563,0.25645847144176165,0.25645847138173056,0.2564584713224535,0.2564584712639208,0.25645847120612314,0.2564584711490513,0.2564584710926961,0.2564584710370485,0.2564584709820995,0.25645847092784047,0.2564584708742625,0.2564584708213572,0.2564584707691159,0.25645847071753036,0.25645847066659233,0.25645847061629357,0.25645847056662613,0.25645847051758186,0.2564584704691531,0.2564584704213321,0.256458470374111,0.2564584703274824,0.2564584702814388,0.25645847023597296,0.2564584701910774,0.25645847014674505,0.25645847010296874,0.2564584700597416,0.2564584700170565,0.2564584699749069,0.25645846993328586,0.2564584698921868,0.2564584698516031,0.2564584698115283,0.25645846977195597,0.25645846973287983,0.2564584696942936,0.2564584696561912,0.25645846961856633,0.2564584695814132,0.2564584695447259,0.2564584695084984,0.25645846947272494,0.25645846943739986,0.25645846940251754,0.25645846936807243,0.25645846933405886,0.25645846930047167,0.2564584692673053,0.2564584692345545,0.25645846920221405,0.2564584691702789,0.25645846913874376,0.2564584691076038,0.2564584690768539,0.2564584690464891,0.25645846901650476,0.256458468986896,0.2564584689576581,0.2564584689287865,0.25645846890027635,0.25645846887212337,0.2564584688443229,0.2564584688168706,0.2564584687897621,0.256458468762993,0.25645846873655914,0.25645846871045624,0.25645846868468014,0.2564584686592267,0.25645846863409205,0.256458468609272,0.2564584685847627,0.25645846856056015,0.25645846853666054,0.2564584685130601,0.2564584684897551,0.2564584684667418,0.2564584684440165,0.25645846842157555,0.2564584683994155,0.2564584683775328,0.2564584683559239,0.2564584683345853,0.2564584683135138,0.256458468292706,0.2564584682721585,0.256458468251868,0.2564584682318315,0.25645846821204554,0.2564584681925072,0.2564584681732132,0.2564584681541607,0.25645846813534634,0.25645846811676737,0.2564584680984208,0.25645846808030376,0.25645846806241324,0.25645846804474653,0.2564584680273007,0.25645846801007305,0.2564584679930609,0.25645846797626143,0.256458467959672,0.25645846794329,0.2564584679271129,0.2564584679111381,0.256458467895363,0.2564584678797851,0.2564584678644019,0.2564584678492111,0.25645846783421017,0.2564584678193968,0.25645846780476855,0.2564584677903232,0.2564584677760584,0.2564584677619719,0.25645846774806147,0.2564584677343249,0.2564584677207599,0.2564584677073646,0.2564584676941366,0.256458467681074,0.25645846766817454,0.2564584676554364,0.25645846764285735,0.25645846763043545,0.25645846761816876,0.2564584676060554,0.2564584675940934,0.2564584675822808,0.25645846757061574,0.2564584675590965,0.25645846754772117,0.256458467536488,0.25645846752539503,0.2564584675144406,0.25645846750362317,0.2564584674929408,0.2564584674823918,0.2564584674719746,0.25645846746168754,0.2564584674515289,0.2564584674414972,0.25645846743159073,0.25645846742180806,0.2564584674121475,0.2564584674026076,0.25645846739318684,0.25645846738388367,0.2564584673746967,0.2564584673656245,0.2564584673566655,0.2564584673478184,0.25645846733908173,0.25645846733045413,0.25645846732193434,0.25645846731352084,0.2564584673052124,0.25645846729700766,0.2564584672889054,0.2564584672809042,0.256458467273003,0.25645846726520033,0.25645846725749516,0.2564584672498861,0.256458467242372,0.2564584672349517,0.256458467227624,0.25645846722038784,0.25645846721324195,0.25645846720618526,0.25645846719921656,0.25645846719233484,0.2564584671855391,0.25645846717882814,0.25645846717220083,0.2564584671656563,0.2564584671591934,0.2564584671528112,0.2564584671465086,0.25645846714028464,0.25645846713413833,0.25645846712806875,0.2564584671220749,0.2564584671161558,0.2564584671103105,0.2564584671045382,0.25645846709883785,0.2564584670932087,0.25645846708764974,0.25645846708216014,0.256458467076739,0.2564584670713855,0.2564584670660987,0.25645846706087794,0.25645846705572223,0.25645846705063097,0.25645846704560304,0.2564584670406379,0.25645846703573466,0.25645846703089265,0.256458467026111,0.25645846702138897,0.2564584670167258,0.2564584670121209,0.2564584670075733,0.25645846700308245,0.25645846699864766,0.2564584669942681,0.2564584669899431,0.25645846698567215,0.2564584669814544,0.2564584669772893,0.2564584669731761,0.2564584669691142,0.25645846696510294,0.2564584669611416,0.25645846695722974,0.2564584669533667,0.2564584669495517,0.2564584669457844,0.25645846694206403,0.25645846693839,0.25645846693476176,0.2564584669311788,0.2564584669276405,0.2564584669241463,0.25645846692069557,0.256458466917288,0.2564584669139228,0.2564584669105997,0.2564584669073179,0.256458466904077,0.2564584669008765,0.25645846689771595,0.2564584668945947,0.25645846689151247,0.2564584668884686,0.2564584668854626,0.25645846688249424,0.2564584668795627,0.2564584668766678,0.25645846687380897,0.25645846687098567,0.2564584668681976,0.2564584668654443,0.25645846686272533,0.2564584668600402,0.2564584668573886,0.25645846685477,0.256458466852184,0.25645846684963025,0.2564584668471083,0.25645846684461787,0.25645846684215834,0.25645846683972956,0.256458466837331,0.25645846683496226,0.25645846683262313,0.25645846683031315,0.2564584668280319,0.2564584668257791,0.2564584668235544,0.2564584668213573,0.25645846681918766,0.25645846681704504,0.25645846681492906,0.2564584668128395,0.25645846681077594,0.2564584668087382,0.2564584668067257,0.2564584668047383,0.2564584668027757,0.2564584668008375,0.2564584667989235,0.2564584667970333,0.25645846679516665,0.2564584667933233,0.25645846679150286,0.2564584667897051,0.2564584667879297,0.25645846678617645,0.25645846678444506,0.2564584667827352,0.25645846678104667,0.2564584667793791,0.2564584667777324,0.2564584667761061,0.2564584667745002,0.2564584667729142,0.2564584667713479,0.2564584667698013,0.2564584667682737,0.2564584667667653,0.25645846676527567,0.2564584667638045,0.25645846676235173,0.25645846676091705,0.2564584667595002,0.256458466758101,0.25645846675671924,0.25645846675535466,0.25645846675400713,0.25645846675267636,0.2564584667513622,0.2564584667500643,0.2564584667487826,0.2564584667475169,0.2564584667462669,0.2564584667450325,0.2564584667438135,0.2564584667426095,0.25645846674142075,0.25645846674024664,0.2564584667390872,0.2564584667379422,0.25645846673681144,0.2564584667356948,0.256458466734592,0.2564584667335029,0.2564584667324274,0.2564584667313653,0.25645846673031647,0.2564584667292806,0.2564584667282577,0.25645846672724754,0.2564584667262499,0.2564584667252647,0.2564584667242918,0.25645846672333095,0.25645846672238204,0.256458466721445,0.2564584667205197,0.25645846671960576,0.2564584667187033,0.25645846671781203,0.25645846671693184,0.2564584667160627,0.2564584667152042,0.25645846671435657,0.2564584667135194,0.2564584667126927,0.2564584667118762,0.25645846671107,0.2564584667102738,0.2564584667094874,0.25645846670871086,0.256458466707944,0.2564584667071866,0.25645846670643874,0.2564584667057001,0.2564584667049707,0.2564584667042504,0.25645846670353906,0.2564584667028365,0.25645846670214273,0.2564584667014576,0.256458466700781,0.2564584667001128,0.25645846669945294,0.2564584666988013,0.25645846669815775,0.2564584666975222,0.2564584666968945,0.2564584666962747,0.25645846669566263,0.2564584666950581,0.25645846669446115,0.25645846669387157,0.25645846669328937,0.25645846669271444,0.2564584666921466,0.25645846669158584,0.2564584666910321,0.2564584666904852,0.2564584666899451,0.2564584666894118,0.2564584666888851,0.25645846668836497,0.25645846668785127,0.25645846668734396,0.25645846668684297,0.25645846668634825,0.2564584666858596,0.2564584666853771,0.2564584666849005,0.25645846668443006,0.25645846668396527,0.25645846668350636,0.2564584666830531,0.2564584666826055,0.25645846668216343,0.256458466681727,0.2564584666812959,0.25645846668087013,0.2564584666804497,0.25645846668003447,0.2564584666796244,0.25645846667921957,0.25645846667881966,0.25645846667842465,0.2564584666780347],\"yaxis\":\"y\",\"type\":\"scattergl\"}],                        {\"template\":{\"data\":{\"histogram2dcontour\":[{\"type\":\"histogram2dcontour\",\"colorbar\":{\"outlinewidth\":0,\"ticks\":\"\"},\"colorscale\":[[0.0,\"#0d0887\"],[0.1111111111111111,\"#46039f\"],[0.2222222222222222,\"#7201a8\"],[0.3333333333333333,\"#9c179e\"],[0.4444444444444444,\"#bd3786\"],[0.5555555555555556,\"#d8576b\"],[0.6666666666666666,\"#ed7953\"],[0.7777777777777778,\"#fb9f3a\"],[0.8888888888888888,\"#fdca26\"],[1.0,\"#f0f921\"]]}],\"choropleth\":[{\"type\":\"choropleth\",\"colorbar\":{\"outlinewidth\":0,\"ticks\":\"\"}}],\"histogram2d\":[{\"type\":\"histogram2d\",\"colorbar\":{\"outlinewidth\":0,\"ticks\":\"\"},\"colorscale\":[[0.0,\"#0d0887\"],[0.1111111111111111,\"#46039f\"],[0.2222222222222222,\"#7201a8\"],[0.3333333333333333,\"#9c179e\"],[0.4444444444444444,\"#bd3786\"],[0.5555555555555556,\"#d8576b\"],[0.6666666666666666,\"#ed7953\"],[0.7777777777777778,\"#fb9f3a\"],[0.8888888888888888,\"#fdca26\"],[1.0,\"#f0f921\"]]}],\"heatmap\":[{\"type\":\"heatmap\",\"colorbar\":{\"outlinewidth\":0,\"ticks\":\"\"},\"colorscale\":[[0.0,\"#0d0887\"],[0.1111111111111111,\"#46039f\"],[0.2222222222222222,\"#7201a8\"],[0.3333333333333333,\"#9c179e\"],[0.4444444444444444,\"#bd3786\"],[0.5555555555555556,\"#d8576b\"],[0.6666666666666666,\"#ed7953\"],[0.7777777777777778,\"#fb9f3a\"],[0.8888888888888888,\"#fdca26\"],[1.0,\"#f0f921\"]]}],\"heatmapgl\":[{\"type\":\"heatmapgl\",\"colorbar\":{\"outlinewidth\":0,\"ticks\":\"\"},\"colorscale\":[[0.0,\"#0d0887\"],[0.1111111111111111,\"#46039f\"],[0.2222222222222222,\"#7201a8\"],[0.3333333333333333,\"#9c179e\"],[0.4444444444444444,\"#bd3786\"],[0.5555555555555556,\"#d8576b\"],[0.6666666666666666,\"#ed7953\"],[0.7777777777777778,\"#fb9f3a\"],[0.8888888888888888,\"#fdca26\"],[1.0,\"#f0f921\"]]}],\"contourcarpet\":[{\"type\":\"contourcarpet\",\"colorbar\":{\"outlinewidth\":0,\"ticks\":\"\"}}],\"contour\":[{\"type\":\"contour\",\"colorbar\":{\"outlinewidth\":0,\"ticks\":\"\"},\"colorscale\":[[0.0,\"#0d0887\"],[0.1111111111111111,\"#46039f\"],[0.2222222222222222,\"#7201a8\"],[0.3333333333333333,\"#9c179e\"],[0.4444444444444444,\"#bd3786\"],[0.5555555555555556,\"#d8576b\"],[0.6666666666666666,\"#ed7953\"],[0.7777777777777778,\"#fb9f3a\"],[0.8888888888888888,\"#fdca26\"],[1.0,\"#f0f921\"]]}],\"surface\":[{\"type\":\"surface\",\"colorbar\":{\"outlinewidth\":0,\"ticks\":\"\"},\"colorscale\":[[0.0,\"#0d0887\"],[0.1111111111111111,\"#46039f\"],[0.2222222222222222,\"#7201a8\"],[0.3333333333333333,\"#9c179e\"],[0.4444444444444444,\"#bd3786\"],[0.5555555555555556,\"#d8576b\"],[0.6666666666666666,\"#ed7953\"],[0.7777777777777778,\"#fb9f3a\"],[0.8888888888888888,\"#fdca26\"],[1.0,\"#f0f921\"]]}],\"mesh3d\":[{\"type\":\"mesh3d\",\"colorbar\":{\"outlinewidth\":0,\"ticks\":\"\"}}],\"scatter\":[{\"fillpattern\":{\"fillmode\":\"overlay\",\"size\":10,\"solidity\":0.2},\"type\":\"scatter\"}],\"parcoords\":[{\"type\":\"parcoords\",\"line\":{\"colorbar\":{\"outlinewidth\":0,\"ticks\":\"\"}}}],\"scatterpolargl\":[{\"type\":\"scatterpolargl\",\"marker\":{\"colorbar\":{\"outlinewidth\":0,\"ticks\":\"\"}}}],\"bar\":[{\"error_x\":{\"color\":\"#2a3f5f\"},\"error_y\":{\"color\":\"#2a3f5f\"},\"marker\":{\"line\":{\"color\":\"#E5ECF6\",\"width\":0.5},\"pattern\":{\"fillmode\":\"overlay\",\"size\":10,\"solidity\":0.2}},\"type\":\"bar\"}],\"scattergeo\":[{\"type\":\"scattergeo\",\"marker\":{\"colorbar\":{\"outlinewidth\":0,\"ticks\":\"\"}}}],\"scatterpolar\":[{\"type\":\"scatterpolar\",\"marker\":{\"colorbar\":{\"outlinewidth\":0,\"ticks\":\"\"}}}],\"histogram\":[{\"marker\":{\"pattern\":{\"fillmode\":\"overlay\",\"size\":10,\"solidity\":0.2}},\"type\":\"histogram\"}],\"scattergl\":[{\"type\":\"scattergl\",\"marker\":{\"colorbar\":{\"outlinewidth\":0,\"ticks\":\"\"}}}],\"scatter3d\":[{\"type\":\"scatter3d\",\"line\":{\"colorbar\":{\"outlinewidth\":0,\"ticks\":\"\"}},\"marker\":{\"colorbar\":{\"outlinewidth\":0,\"ticks\":\"\"}}}],\"scattermapbox\":[{\"type\":\"scattermapbox\",\"marker\":{\"colorbar\":{\"outlinewidth\":0,\"ticks\":\"\"}}}],\"scatterternary\":[{\"type\":\"scatterternary\",\"marker\":{\"colorbar\":{\"outlinewidth\":0,\"ticks\":\"\"}}}],\"scattercarpet\":[{\"type\":\"scattercarpet\",\"marker\":{\"colorbar\":{\"outlinewidth\":0,\"ticks\":\"\"}}}],\"carpet\":[{\"aaxis\":{\"endlinecolor\":\"#2a3f5f\",\"gridcolor\":\"white\",\"linecolor\":\"white\",\"minorgridcolor\":\"white\",\"startlinecolor\":\"#2a3f5f\"},\"baxis\":{\"endlinecolor\":\"#2a3f5f\",\"gridcolor\":\"white\",\"linecolor\":\"white\",\"minorgridcolor\":\"white\",\"startlinecolor\":\"#2a3f5f\"},\"type\":\"carpet\"}],\"table\":[{\"cells\":{\"fill\":{\"color\":\"#EBF0F8\"},\"line\":{\"color\":\"white\"}},\"header\":{\"fill\":{\"color\":\"#C8D4E3\"},\"line\":{\"color\":\"white\"}},\"type\":\"table\"}],\"barpolar\":[{\"marker\":{\"line\":{\"color\":\"#E5ECF6\",\"width\":0.5},\"pattern\":{\"fillmode\":\"overlay\",\"size\":10,\"solidity\":0.2}},\"type\":\"barpolar\"}],\"pie\":[{\"automargin\":true,\"type\":\"pie\"}]},\"layout\":{\"autotypenumbers\":\"strict\",\"colorway\":[\"#636efa\",\"#EF553B\",\"#00cc96\",\"#ab63fa\",\"#FFA15A\",\"#19d3f3\",\"#FF6692\",\"#B6E880\",\"#FF97FF\",\"#FECB52\"],\"font\":{\"color\":\"#2a3f5f\"},\"hovermode\":\"closest\",\"hoverlabel\":{\"align\":\"left\"},\"paper_bgcolor\":\"white\",\"plot_bgcolor\":\"#E5ECF6\",\"polar\":{\"bgcolor\":\"#E5ECF6\",\"angularaxis\":{\"gridcolor\":\"white\",\"linecolor\":\"white\",\"ticks\":\"\"},\"radialaxis\":{\"gridcolor\":\"white\",\"linecolor\":\"white\",\"ticks\":\"\"}},\"ternary\":{\"bgcolor\":\"#E5ECF6\",\"aaxis\":{\"gridcolor\":\"white\",\"linecolor\":\"white\",\"ticks\":\"\"},\"baxis\":{\"gridcolor\":\"white\",\"linecolor\":\"white\",\"ticks\":\"\"},\"caxis\":{\"gridcolor\":\"white\",\"linecolor\":\"white\",\"ticks\":\"\"}},\"coloraxis\":{\"colorbar\":{\"outlinewidth\":0,\"ticks\":\"\"}},\"colorscale\":{\"sequential\":[[0.0,\"#0d0887\"],[0.1111111111111111,\"#46039f\"],[0.2222222222222222,\"#7201a8\"],[0.3333333333333333,\"#9c179e\"],[0.4444444444444444,\"#bd3786\"],[0.5555555555555556,\"#d8576b\"],[0.6666666666666666,\"#ed7953\"],[0.7777777777777778,\"#fb9f3a\"],[0.8888888888888888,\"#fdca26\"],[1.0,\"#f0f921\"]],\"sequentialminus\":[[0.0,\"#0d0887\"],[0.1111111111111111,\"#46039f\"],[0.2222222222222222,\"#7201a8\"],[0.3333333333333333,\"#9c179e\"],[0.4444444444444444,\"#bd3786\"],[0.5555555555555556,\"#d8576b\"],[0.6666666666666666,\"#ed7953\"],[0.7777777777777778,\"#fb9f3a\"],[0.8888888888888888,\"#fdca26\"],[1.0,\"#f0f921\"]],\"diverging\":[[0,\"#8e0152\"],[0.1,\"#c51b7d\"],[0.2,\"#de77ae\"],[0.3,\"#f1b6da\"],[0.4,\"#fde0ef\"],[0.5,\"#f7f7f7\"],[0.6,\"#e6f5d0\"],[0.7,\"#b8e186\"],[0.8,\"#7fbc41\"],[0.9,\"#4d9221\"],[1,\"#276419\"]]},\"xaxis\":{\"gridcolor\":\"white\",\"linecolor\":\"white\",\"ticks\":\"\",\"title\":{\"standoff\":15},\"zerolinecolor\":\"white\",\"automargin\":true,\"zerolinewidth\":2},\"yaxis\":{\"gridcolor\":\"white\",\"linecolor\":\"white\",\"ticks\":\"\",\"title\":{\"standoff\":15},\"zerolinecolor\":\"white\",\"automargin\":true,\"zerolinewidth\":2},\"scene\":{\"xaxis\":{\"backgroundcolor\":\"#E5ECF6\",\"gridcolor\":\"white\",\"linecolor\":\"white\",\"showbackground\":true,\"ticks\":\"\",\"zerolinecolor\":\"white\",\"gridwidth\":2},\"yaxis\":{\"backgroundcolor\":\"#E5ECF6\",\"gridcolor\":\"white\",\"linecolor\":\"white\",\"showbackground\":true,\"ticks\":\"\",\"zerolinecolor\":\"white\",\"gridwidth\":2},\"zaxis\":{\"backgroundcolor\":\"#E5ECF6\",\"gridcolor\":\"white\",\"linecolor\":\"white\",\"showbackground\":true,\"ticks\":\"\",\"zerolinecolor\":\"white\",\"gridwidth\":2}},\"shapedefaults\":{\"line\":{\"color\":\"#2a3f5f\"}},\"annotationdefaults\":{\"arrowcolor\":\"#2a3f5f\",\"arrowhead\":0,\"arrowwidth\":1},\"geo\":{\"bgcolor\":\"white\",\"landcolor\":\"#E5ECF6\",\"subunitcolor\":\"white\",\"showland\":true,\"showlakes\":true,\"lakecolor\":\"white\"},\"title\":{\"x\":0.05},\"mapbox\":{\"style\":\"light\"}}},\"xaxis\":{\"anchor\":\"y\",\"domain\":[0.0,1.0],\"title\":{\"text\":\"Iteration\"}},\"yaxis\":{\"anchor\":\"x\",\"domain\":[0.0,1.0],\"title\":{\"text\":\"Loss\"}},\"legend\":{\"tracegroupgap\":0},\"margin\":{\"t\":60},\"title\":{\"text\":\"Training Loss\",\"x\":0.5},\"showlegend\":false},                        {\"responsive\": true}                    ).then(function(){\n",
              "                            \n",
              "var gd = document.getElementById('f0491b88-eb36-44f5-ad92-871d3730a42f');\n",
              "var x = new MutationObserver(function (mutations, observer) {{\n",
              "        var display = window.getComputedStyle(gd).display;\n",
              "        if (!display || display === 'none') {{\n",
              "            console.log([gd, 'removed!']);\n",
              "            Plotly.purge(gd);\n",
              "            observer.disconnect();\n",
              "        }}\n",
              "}});\n",
              "\n",
              "// Listen for the removal of the full notebook cells\n",
              "var notebookContainer = gd.closest('#notebook-container');\n",
              "if (notebookContainer) {{\n",
              "    x.observe(notebookContainer, {childList: true});\n",
              "}}\n",
              "\n",
              "// Listen for the clearing of the current output cell\n",
              "var outputEl = gd.closest('.output');\n",
              "if (outputEl) {{\n",
              "    x.observe(outputEl, {childList: true});\n",
              "}}\n",
              "\n",
              "                        })                };                            </script>        </div>\n",
              "</body>\n",
              "</html>"
            ]
          },
          "metadata": {}
        }
      ]
    }
  ]
}